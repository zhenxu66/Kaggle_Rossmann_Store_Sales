{
 "cells": [
  {
   "cell_type": "code",
   "execution_count": 1,
   "metadata": {
    "collapsed": false
   },
   "outputs": [],
   "source": [
    "import pandas as pd\n",
    "import numpy as np\n",
    "\n",
    "import xgboost as xgb\n",
    "from sklearn.linear_model import LinearRegression\n",
    "from sklearn.linear_model import LogisticRegression\n",
    "from sklearn.svm import SVC, LinearSVC\n",
    "from sklearn.ensemble import RandomForestClassifier\n",
    "from sklearn.neighbors import KNeighborsClassifier\n",
    "from sklearn.naive_bayes import GaussianNB\n",
    "from sklearn.cross_validation import train_test_split\n",
    "from sklearn import cross_validation\n",
    "\n",
    "import operator\n",
    "import matplotlib\n",
    "import seaborn as sns\n",
    "sns.set_style('whitegrid')\n",
    "%matplotlib inline"
   ]
  },
  {
   "cell_type": "code",
   "execution_count": 2,
   "metadata": {
    "collapsed": false
   },
   "outputs": [
    {
     "name": "stdout",
     "output_type": "stream",
     "text": [
      "Load the training, test and store data using pandas\n"
     ]
    }
   ],
   "source": [
    "# (1) read in data\n",
    "print(\"Load the training, test and store data using pandas\")\n",
    "types = {'StateHoliday': np.dtype(str),\n",
    "         'SchoolHoliday': np.dtype(float),\n",
    "         'PromoInterval': np.dtype(str),\n",
    "         'Assortment': np.dtype(str), \n",
    "         'PromoInterval': np.dtype(str),\n",
    "         'StoreType': np.dtype(str)\n",
    "        }\n",
    "\n",
    "\n",
    "train_df = pd.read_csv(\"../data/train.csv\", dtype=types)\n",
    "store_df = pd.read_csv(\"../data/store.csv\", dtype=types, keep_default_na=False, na_values= '')\n",
    "test_df = pd.read_csv(\"../data/test.csv\", dtype=types)"
   ]
  },
  {
   "cell_type": "code",
   "execution_count": 3,
   "metadata": {
    "collapsed": false
   },
   "outputs": [],
   "source": [
    "# (2) show data feature\n",
    "#train_df[0:10]"
   ]
  },
  {
   "cell_type": "code",
   "execution_count": 4,
   "metadata": {
    "collapsed": false
   },
   "outputs": [],
   "source": [
    "#store_df[0:10]"
   ]
  },
  {
   "cell_type": "code",
   "execution_count": 5,
   "metadata": {
    "collapsed": false
   },
   "outputs": [
    {
     "data": {
      "text/plain": [
       "'print(\"\\n\"+\"----train-------\")\\ntrain_df.info()\\nprint(\"\\n\"+\"----store----------\")\\nstore_df.info()\\nprint(\"\\n\"+\"----test----------\")\\ntest_df.info()'"
      ]
     },
     "execution_count": 5,
     "metadata": {},
     "output_type": "execute_result"
    }
   ],
   "source": [
    "# show all data features\n",
    "'''print(\"\\n\"+\"----train-------\")\n",
    "train_df.info()\n",
    "print(\"\\n\"+\"----store----------\")\n",
    "store_df.info()\n",
    "print(\"\\n\"+\"----test----------\")\n",
    "test_df.info()'''"
   ]
  },
  {
   "cell_type": "code",
   "execution_count": 6,
   "metadata": {
    "collapsed": false
   },
   "outputs": [],
   "source": [
    "def describe_object(X):\n",
    "    # return object variables only\n",
    "    from IPython.display import display, HTML\n",
    "    display(HTML(X[X.columns[X.dtypes == \"object\"]].describe().to_html()))\n",
    "    \n",
    "def show_object(X):\n",
    "    category=np.unique(list(X.select_dtypes(['object'])))\n",
    "    print(\"------------------Categorical Columns---------------------\")\n",
    "    print(category)\n",
    "    print(\"\\n\")\n",
    "    print(\"------------List all----------------------\")\n",
    "    for column in category:\n",
    "        {\n",
    "        print(column + ':' + str(np.unique(list(X[column])))+'\\n')\n",
    "        }\n",
    "\n",
    "def show_object_No(X, No):\n",
    "    category=np.unique(list(filter(lambda x: x!= No, X.select_dtypes(['object']))))\n",
    "    print(\"----------Categorical Columns------remove-\"+No+\"--------------\")\n",
    "    print(category)\n",
    "    print(\"\\n\")\n",
    "    print(\"------------List all----------------------\")\n",
    "    for column in category:\n",
    "        {\n",
    "        print(column + ':' + str(np.unique(list(X[column])))+'\\n')\n",
    "        }\n",
    "        \n",
    "def show_object_NoList(X, NoList):\n",
    "    category=np.unique(list(filter(lambda x: (x not in NoList), X.select_dtypes(['object']))))\n",
    "    print(\"----------Categorical Columns---remove----\"+', '.join(NoList)+\"--------------\")\n",
    "    print(category)\n",
    "    print(\"\\n\")\n",
    "    print(\"------------List all----------------------\")\n",
    "    for column in category:\n",
    "        {\n",
    "        print(column + ':' + str(np.unique(list(X[column])))+'\\n')\n",
    "        }\n",
    "        \n",
    "def dummy_object(df, Object_List):\n",
    "    df2 = df\n",
    "    for x in Object_List:\n",
    "        df[x].fillna(\"Missing\", inplace=True) # Missing is also maybe a option for categorize\n",
    "        dummies = pd.get_dummies(df[x], prefix=x, prefix_sep=\"dummy\") # create dummies array\n",
    "        df2 = pd.concat([df2, dummies], axis=1) # put together previous put df here only get last concat\n",
    "        df2.drop([x],axis=1, inplace=True)\n",
    "    return df2\n",
    "\n",
    "def String_list_find(list, spec):\n",
    "    result = []\n",
    "    for string in list:\n",
    "        if string.find(spec) != -1:\n",
    "            result.append(string)\n",
    "    return result\n",
    "\n",
    "def List_diffa(a, b):\n",
    "    b = set(b)\n",
    "    return [aa for aa in a if aa not in b]"
   ]
  },
  {
   "cell_type": "code",
   "execution_count": 7,
   "metadata": {
    "collapsed": false
   },
   "outputs": [
    {
     "data": {
      "text/plain": [
       "'print(\"----------------------------train Data---------------------------------\")\\ndescribe_object(train_df)\\nshow_object_No(train_df,\\'Date\\')\\nprint(\"-----------------------------test Data-----------------------------\")\\ndescribe_object(test_df)\\nshow_object_No(test_df,\\'Date\\')\\nprint(\"----------------------------store Data-------------------------------\")\\ndescribe_object(store_df)\\nshow_object(store_df)'"
      ]
     },
     "execution_count": 7,
     "metadata": {},
     "output_type": "execute_result"
    }
   ],
   "source": [
    "'''print(\"----------------------------train Data---------------------------------\")\n",
    "describe_object(train_df)\n",
    "show_object_No(train_df,'Date')\n",
    "print(\"-----------------------------test Data-----------------------------\")\n",
    "describe_object(test_df)\n",
    "show_object_No(test_df,'Date')\n",
    "print(\"----------------------------store Data-------------------------------\")\n",
    "describe_object(store_df)\n",
    "show_object(store_df)'''"
   ]
  },
  {
   "cell_type": "code",
   "execution_count": 8,
   "metadata": {
    "collapsed": false
   },
   "outputs": [],
   "source": [
    "# features_build: features List;  data (data frame in -> data frame out)\n",
    "def features_build(features, data):\n",
    "    # fill nan with 0\n",
    "    data.fillna(0, inplace=True)\n",
    "    #data.loc[data.open.isnull(), 'Open'] =1\n",
    "    #features as a list to store reference columns for training\n",
    "    features.extend(['Store', 'CompetitionDistance', 'Promo', 'Promo2', 'SchoolHoliday'])\n",
    "    \n",
    "    # add columns (features list and then data import)\n",
    "    #(1) categorical to 12345 mapping\n",
    "    '''features.extend(['StoreType', 'Assortment', 'StateHoliday'])\n",
    "    mappings = {'a':1, 'b':2, 'c':3, 'd':4, '0':0}\n",
    "    data.StoreType.replace(mappings, inplace=True)\n",
    "    data.Assortment.replace(mappings, inplace=True)\n",
    "    data.StateHoliday.replace(mappings, inplace=True)'''\n",
    "    #(1) dummy\n",
    "    dummy_str=['StoreType', 'Assortment', 'StateHoliday']\n",
    "    #print(\"input dataframe index\")\n",
    "    #print(data.dtypes.index)\n",
    "    data=dummy_object(data, dummy_str)\n",
    "    #print(\"output dataframe index after dummy\")\n",
    "    #print(data.dtypes.index)\n",
    "    features.extend(String_list_find(list(data.dtypes.index),'dummy'))\n",
    "    \n",
    "    \n",
    "    #(2) Date \n",
    "    features.extend(['DayofWeek', 'Month', 'Day', 'Year', 'WeekofYear'])\n",
    "    data['Year'] = pd.to_datetime(data.Date).dt.year\n",
    "    data['Month'] = pd.to_datetime(data.Date).dt.month\n",
    "    data['Day'] = pd.to_datetime(data.Date).dt.day\n",
    "    data['DayofWeek'] = pd.to_datetime(data.Date).dt.dayofweek\n",
    "    data['WeekofYear'] = pd.to_datetime(data.Date).dt.weekofyear\n",
    "    \n",
    "    #(3) Other time\n",
    "    features.extend(['CompetitionOpenMonth'])\n",
    "    data['CompetitionOpenMonth'] = (data.Month - data.CompetitionOpenSinceMonth) + 12 * (data.Year - data.CompetitionOpenSinceYear)\n",
    "    \n",
    "    features.extend(['Promo2SinceMonth'])\n",
    "    data['Promo2SinceMonth'] = (data.WeekofYear - data.Promo2SinceWeek)/4 + 12 * (data.Year - data.Promo2SinceYear)\n",
    "    data['Promo2SinceMonth'] = data.Promo2SinceMonth.apply(lambda x: x if x > 0 else 0)\n",
    "    data.loc[data.Promo2SinceYear == 0, 'Promo2SinceMonth'] = 0\n",
    "    \n",
    "    \n",
    "    features.append('IsPromoMonth')\n",
    "    month2str = {1:'Jan', 2:'Feb', 3:'Mar', 4:'Apr', 5:'May', 6:'Jun', \\\n",
    "             7:'Jul', 8:'Aug', 9:'Sept', 10:'Oct', 11:'Nov', 12:'Dec'}\n",
    "    data['monthStr'] = data.Month.map(month2str)\n",
    "    data.loc[data.PromoInterval == 0, 'PromoInterval'] = ''\n",
    "    data['IsPromoMonth'] = 0\n",
    "    for interval in data.PromoInterval.unique():\n",
    "        if interval != '':\n",
    "            for month in interval.split(','):\n",
    "                data.loc[(data.monthStr == month) & (data.PromoInterval == interval), 'IsPromoMonth'] = 1\n",
    "                \n",
    "    return data\n",
    "\n"
   ]
  },
  {
   "cell_type": "code",
   "execution_count": 9,
   "metadata": {
    "collapsed": false
   },
   "outputs": [],
   "source": [
    "##"
   ]
  },
  {
   "cell_type": "code",
   "execution_count": 10,
   "metadata": {
    "collapsed": false
   },
   "outputs": [
    {
     "name": "stdout",
     "output_type": "stream",
     "text": [
      "Assume store open, if not provided\n",
      "Consider only open stores for training. Closed stores wont count into the score.\n",
      "Use only Sales bigger then zero\n",
      "Join with store\n"
     ]
    }
   ],
   "source": [
    "print(\"Assume store open, if not provided\")\n",
    "test_df.fillna(1, inplace=True)\n",
    "\n",
    "print(\"Consider only open stores for training. Closed stores wont count into the score.\")\n",
    "train_df = train_df[train_df[\"Open\"] != 0]\n",
    "print(\"Use only Sales bigger then zero\")\n",
    "train_df = train_df[train_df[\"Sales\"] > 0]\n",
    "\n",
    "print(\"Join with store\")\n",
    "train_df = pd.merge(train_df, store_df, on='Store')\n",
    "test_df = pd.merge(test_df, store_df, on='Store')\n",
    "#print(train_df.dtypes.index)\n",
    "#print(test_df.dtypes.index)"
   ]
  },
  {
   "cell_type": "code",
   "execution_count": 11,
   "metadata": {
    "collapsed": false
   },
   "outputs": [
    {
     "name": "stdout",
     "output_type": "stream",
     "text": [
      "augment features\n",
      "training data processed\n"
     ]
    }
   ],
   "source": [
    "features = []\n",
    "\n",
    "print(\"augment features\")\n",
    "train_df = features_build(features, train_df)\n",
    "#print(features)\n",
    "test_df = features_build([], test_df)\n",
    "\n",
    "# add new columns (with zero) to test_df, these columns are in training, not in testing\n",
    "train_columns = list(train_df.dtypes.index)\n",
    "test_columns = list(test_df.dtypes.index)\n",
    "train_more = List_diffa(train_columns, test_columns)\n",
    "for col in train_more:\n",
    "    test_df[col]=0\n",
    "\n",
    "\n",
    "print('training data processed')\n",
    "\n",
    "def rmspe(y, yhat):\n",
    "    return np.sqrt(np.mean(((y - yhat)/y) ** 2))\n",
    "\n",
    "def rmspe_xg(yhat, y):\n",
    "    y = np.expm1(y.get_label())\n",
    "    yhat = np.expm1(yhat)\n",
    "    return \"rmspe\", rmspe(y, yhat)\n"
   ]
  },
  {
   "cell_type": "code",
   "execution_count": 12,
   "metadata": {
    "collapsed": false
   },
   "outputs": [],
   "source": [
    "#check columns in training and testing\n",
    "#print(train_df.dtypes.index)\n",
    "#print(\"----------------------\")\n",
    "#print(test_df.dtypes.index)"
   ]
  },
  {
   "cell_type": "code",
   "execution_count": 13,
   "metadata": {
    "collapsed": false,
    "scrolled": true
   },
   "outputs": [
    {
     "name": "stdout",
     "output_type": "stream",
     "text": [
      "Train xgboost model Parameters\n"
     ]
    }
   ],
   "source": [
    "print(\"Train xgboost model Parameters\")\n",
    "\n",
    "params = {\"objective\": \"reg:linear\",\n",
    "          \"booster\" : \"gbtree\",\n",
    "          \"eta\": 0.02, #0.1\n",
    "          \"max_depth\": 10,\n",
    "          \"subsample\": 0.9, #0.85\n",
    "          \"colsample_bytree\": 0.7, #0.4 \n",
    "          \"min_child_weight\": 6,\n",
    "          \"silent\": 1,\n",
    "          \"thread\": 1,\n",
    "          \"seed\": 1301\n",
    "          }\n",
    "num_boost_round = 300"
   ]
  },
  {
   "cell_type": "code",
   "execution_count": 14,
   "metadata": {
    "collapsed": false
   },
   "outputs": [
    {
     "name": "stderr",
     "output_type": "stream",
     "text": [
      "Will train until eval error hasn't decreased in 100 rounds.\n",
      "[0]\ttrain-rmspe:0.999837\teval-rmspe:0.999837\n",
      "[1]\ttrain-rmspe:0.999779\teval-rmspe:0.999779\n",
      "[2]\ttrain-rmspe:0.999712\teval-rmspe:0.999711\n",
      "[3]\ttrain-rmspe:0.999635\teval-rmspe:0.999634\n",
      "[4]\ttrain-rmspe:0.999547\teval-rmspe:0.999546\n",
      "[5]\ttrain-rmspe:0.999447\teval-rmspe:0.999446\n",
      "[6]\ttrain-rmspe:0.999333\teval-rmspe:0.999333\n",
      "[7]\ttrain-rmspe:0.999205\teval-rmspe:0.999204\n",
      "[8]\ttrain-rmspe:0.999061\teval-rmspe:0.999060\n",
      "[9]\ttrain-rmspe:0.998897\teval-rmspe:0.998896\n",
      "[10]\ttrain-rmspe:0.998714\teval-rmspe:0.998713\n",
      "[11]\ttrain-rmspe:0.998509\teval-rmspe:0.998508\n",
      "[12]\ttrain-rmspe:0.998281\teval-rmspe:0.998280\n",
      "[13]\ttrain-rmspe:0.998026\teval-rmspe:0.998025\n",
      "[14]\ttrain-rmspe:0.997744\teval-rmspe:0.997743\n",
      "[15]\ttrain-rmspe:0.997432\teval-rmspe:0.997431\n",
      "[16]\ttrain-rmspe:0.997086\teval-rmspe:0.997086\n",
      "[17]\ttrain-rmspe:0.996705\teval-rmspe:0.996705\n",
      "[18]\ttrain-rmspe:0.996287\teval-rmspe:0.996287\n",
      "[19]\ttrain-rmspe:0.995827\teval-rmspe:0.995827\n",
      "[20]\ttrain-rmspe:0.995325\teval-rmspe:0.995325\n",
      "[21]\ttrain-rmspe:0.994776\teval-rmspe:0.994778\n",
      "[22]\ttrain-rmspe:0.994178\teval-rmspe:0.994179\n",
      "[23]\ttrain-rmspe:0.993526\teval-rmspe:0.993528\n",
      "[24]\ttrain-rmspe:0.992821\teval-rmspe:0.992824\n",
      "[25]\ttrain-rmspe:0.992055\teval-rmspe:0.992059\n",
      "[26]\ttrain-rmspe:0.991230\teval-rmspe:0.991234\n",
      "[27]\ttrain-rmspe:0.990337\teval-rmspe:0.990342\n",
      "[28]\ttrain-rmspe:0.989376\teval-rmspe:0.989382\n",
      "[29]\ttrain-rmspe:0.988342\teval-rmspe:0.988349\n",
      "[30]\ttrain-rmspe:0.987238\teval-rmspe:0.987246\n",
      "[31]\ttrain-rmspe:0.986053\teval-rmspe:0.986064\n",
      "[32]\ttrain-rmspe:0.984790\teval-rmspe:0.984802\n",
      "[33]\ttrain-rmspe:0.983440\teval-rmspe:0.983455\n",
      "[34]\ttrain-rmspe:0.982004\teval-rmspe:0.982020\n",
      "[35]\ttrain-rmspe:0.980476\teval-rmspe:0.980495\n",
      "[36]\ttrain-rmspe:0.978855\teval-rmspe:0.978875\n",
      "[37]\ttrain-rmspe:0.977137\teval-rmspe:0.977160\n",
      "[38]\ttrain-rmspe:0.975319\teval-rmspe:0.975346\n",
      "[39]\ttrain-rmspe:0.973400\teval-rmspe:0.973428\n",
      "[40]\ttrain-rmspe:0.971373\teval-rmspe:0.971404\n",
      "[41]\ttrain-rmspe:0.969242\teval-rmspe:0.969277\n",
      "[42]\ttrain-rmspe:0.967000\teval-rmspe:0.967037\n",
      "[43]\ttrain-rmspe:0.964645\teval-rmspe:0.964686\n",
      "[44]\ttrain-rmspe:0.962170\teval-rmspe:0.962215\n",
      "[45]\ttrain-rmspe:0.959581\teval-rmspe:0.959631\n",
      "[46]\ttrain-rmspe:0.956875\teval-rmspe:0.956930\n",
      "[47]\ttrain-rmspe:0.954047\teval-rmspe:0.954103\n",
      "[48]\ttrain-rmspe:0.951092\teval-rmspe:0.951154\n",
      "[49]\ttrain-rmspe:0.948022\teval-rmspe:0.948087\n",
      "[50]\ttrain-rmspe:0.944828\teval-rmspe:0.944895\n",
      "[51]\ttrain-rmspe:0.941504\teval-rmspe:0.941573\n",
      "[52]\ttrain-rmspe:0.938052\teval-rmspe:0.938125\n",
      "[53]\ttrain-rmspe:0.934474\teval-rmspe:0.934549\n",
      "[54]\ttrain-rmspe:0.930771\teval-rmspe:0.930850\n",
      "[55]\ttrain-rmspe:0.926942\teval-rmspe:0.927026\n",
      "[56]\ttrain-rmspe:0.922982\teval-rmspe:0.923069\n",
      "[57]\ttrain-rmspe:0.918894\teval-rmspe:0.918984\n",
      "[58]\ttrain-rmspe:0.914674\teval-rmspe:0.914764\n",
      "[59]\ttrain-rmspe:0.910337\teval-rmspe:0.910429\n",
      "[60]\ttrain-rmspe:0.905868\teval-rmspe:0.905962\n",
      "[61]\ttrain-rmspe:0.901275\teval-rmspe:0.901370\n",
      "[62]\ttrain-rmspe:0.896572\teval-rmspe:0.896669\n",
      "[63]\ttrain-rmspe:0.891745\teval-rmspe:0.891846\n",
      "[64]\ttrain-rmspe:0.886807\teval-rmspe:0.886908\n",
      "[65]\ttrain-rmspe:0.881741\teval-rmspe:0.881838\n",
      "[66]\ttrain-rmspe:0.876562\teval-rmspe:0.876661\n",
      "[67]\ttrain-rmspe:0.871265\teval-rmspe:0.871361\n",
      "[68]\ttrain-rmspe:0.865865\teval-rmspe:0.865958\n",
      "[69]\ttrain-rmspe:0.860342\teval-rmspe:0.860430\n",
      "[70]\ttrain-rmspe:0.854717\teval-rmspe:0.854800\n",
      "[71]\ttrain-rmspe:0.848985\teval-rmspe:0.849057\n",
      "[72]\ttrain-rmspe:0.843169\teval-rmspe:0.843240\n",
      "[73]\ttrain-rmspe:0.837242\teval-rmspe:0.837299\n",
      "[74]\ttrain-rmspe:0.831222\teval-rmspe:0.831268\n",
      "[75]\ttrain-rmspe:0.825114\teval-rmspe:0.825152\n",
      "[76]\ttrain-rmspe:0.818935\teval-rmspe:0.818958\n",
      "[77]\ttrain-rmspe:0.812656\teval-rmspe:0.812663\n",
      "[78]\ttrain-rmspe:0.806289\teval-rmspe:0.806277\n",
      "[79]\ttrain-rmspe:0.799855\teval-rmspe:0.799824\n",
      "[80]\ttrain-rmspe:0.793353\teval-rmspe:0.793302\n",
      "[81]\ttrain-rmspe:0.786795\teval-rmspe:0.786718\n",
      "[82]\ttrain-rmspe:0.780146\teval-rmspe:0.780041\n",
      "[83]\ttrain-rmspe:0.773457\teval-rmspe:0.773329\n",
      "[84]\ttrain-rmspe:0.766700\teval-rmspe:0.766543\n",
      "[85]\ttrain-rmspe:0.759882\teval-rmspe:0.759694\n",
      "[86]\ttrain-rmspe:0.753024\teval-rmspe:0.752811\n",
      "[87]\ttrain-rmspe:0.746111\teval-rmspe:0.745861\n",
      "[88]\ttrain-rmspe:0.739172\teval-rmspe:0.738883\n",
      "[89]\ttrain-rmspe:0.732198\teval-rmspe:0.731875\n",
      "[90]\ttrain-rmspe:0.725181\teval-rmspe:0.724822\n",
      "[91]\ttrain-rmspe:0.718146\teval-rmspe:0.717741\n",
      "[92]\ttrain-rmspe:0.711079\teval-rmspe:0.710626\n",
      "[93]\ttrain-rmspe:0.704005\teval-rmspe:0.703488\n",
      "[94]\ttrain-rmspe:0.696897\teval-rmspe:0.696320\n",
      "[95]\ttrain-rmspe:0.689781\teval-rmspe:0.689149\n",
      "[96]\ttrain-rmspe:0.682659\teval-rmspe:0.681963\n",
      "[97]\ttrain-rmspe:0.675537\teval-rmspe:0.674767\n",
      "[98]\ttrain-rmspe:0.668424\teval-rmspe:0.667583\n",
      "[99]\ttrain-rmspe:0.661313\teval-rmspe:0.660395\n",
      "[100]\ttrain-rmspe:0.654200\teval-rmspe:0.653213\n",
      "[101]\ttrain-rmspe:0.647098\teval-rmspe:0.646027\n",
      "[102]\ttrain-rmspe:0.640036\teval-rmspe:0.638863\n",
      "[103]\ttrain-rmspe:0.632979\teval-rmspe:0.631714\n",
      "[104]\ttrain-rmspe:0.625933\teval-rmspe:0.624587\n",
      "[105]\ttrain-rmspe:0.618938\teval-rmspe:0.617509\n",
      "[106]\ttrain-rmspe:0.611958\teval-rmspe:0.610431\n",
      "[107]\ttrain-rmspe:0.605015\teval-rmspe:0.603378\n",
      "[108]\ttrain-rmspe:0.598110\teval-rmspe:0.596365\n",
      "[109]\ttrain-rmspe:0.591242\teval-rmspe:0.589385\n",
      "[110]\ttrain-rmspe:0.584425\teval-rmspe:0.582449\n",
      "[111]\ttrain-rmspe:0.577657\teval-rmspe:0.575543\n",
      "[112]\ttrain-rmspe:0.570925\teval-rmspe:0.568684\n",
      "[113]\ttrain-rmspe:0.564251\teval-rmspe:0.561871\n",
      "[114]\ttrain-rmspe:0.557632\teval-rmspe:0.555104\n",
      "[115]\ttrain-rmspe:0.551068\teval-rmspe:0.548401\n",
      "[116]\ttrain-rmspe:0.544545\teval-rmspe:0.541750\n",
      "[117]\ttrain-rmspe:0.538099\teval-rmspe:0.535158\n",
      "[118]\ttrain-rmspe:0.531720\teval-rmspe:0.528633\n",
      "[119]\ttrain-rmspe:0.525412\teval-rmspe:0.522168\n",
      "[120]\ttrain-rmspe:0.519195\teval-rmspe:0.515774\n",
      "[121]\ttrain-rmspe:0.513029\teval-rmspe:0.509446\n",
      "[122]\ttrain-rmspe:0.506941\teval-rmspe:0.503181\n",
      "[123]\ttrain-rmspe:0.500937\teval-rmspe:0.496996\n",
      "[124]\ttrain-rmspe:0.495025\teval-rmspe:0.490888\n",
      "[125]\ttrain-rmspe:0.489160\teval-rmspe:0.484846\n",
      "[126]\ttrain-rmspe:0.483403\teval-rmspe:0.478896\n",
      "[127]\ttrain-rmspe:0.477700\teval-rmspe:0.472976\n",
      "[128]\ttrain-rmspe:0.472093\teval-rmspe:0.467148\n",
      "[129]\ttrain-rmspe:0.466610\teval-rmspe:0.461438\n",
      "[130]\ttrain-rmspe:0.461178\teval-rmspe:0.455766\n",
      "[131]\ttrain-rmspe:0.455859\teval-rmspe:0.450221\n",
      "[132]\ttrain-rmspe:0.450653\teval-rmspe:0.444775\n",
      "[133]\ttrain-rmspe:0.445494\teval-rmspe:0.439401\n",
      "[134]\ttrain-rmspe:0.440398\teval-rmspe:0.434080\n",
      "[135]\ttrain-rmspe:0.435313\teval-rmspe:0.428741\n",
      "[136]\ttrain-rmspe:0.430464\teval-rmspe:0.423640\n",
      "[137]\ttrain-rmspe:0.425607\teval-rmspe:0.418545\n",
      "[138]\ttrain-rmspe:0.420953\teval-rmspe:0.413634\n",
      "[139]\ttrain-rmspe:0.416362\teval-rmspe:0.408793\n",
      "[140]\ttrain-rmspe:0.411896\teval-rmspe:0.404053\n",
      "[141]\ttrain-rmspe:0.407458\teval-rmspe:0.399355\n",
      "[142]\ttrain-rmspe:0.403108\teval-rmspe:0.394743\n",
      "[143]\ttrain-rmspe:0.398857\teval-rmspe:0.390199\n",
      "[144]\ttrain-rmspe:0.394744\teval-rmspe:0.385785\n",
      "[145]\ttrain-rmspe:0.390616\teval-rmspe:0.381344\n",
      "[146]\ttrain-rmspe:0.386693\teval-rmspe:0.377113\n",
      "[147]\ttrain-rmspe:0.382797\teval-rmspe:0.372949\n",
      "[148]\ttrain-rmspe:0.379128\teval-rmspe:0.368972\n",
      "[149]\ttrain-rmspe:0.375357\teval-rmspe:0.364916\n",
      "[150]\ttrain-rmspe:0.371834\teval-rmspe:0.361107\n",
      "[151]\ttrain-rmspe:0.368345\teval-rmspe:0.357324\n",
      "[152]\ttrain-rmspe:0.364989\teval-rmspe:0.353679\n",
      "[153]\ttrain-rmspe:0.361796\teval-rmspe:0.350070\n",
      "[154]\ttrain-rmspe:0.358657\teval-rmspe:0.346621\n",
      "[155]\ttrain-rmspe:0.355550\teval-rmspe:0.343199\n",
      "[156]\ttrain-rmspe:0.352467\teval-rmspe:0.339811\n",
      "[157]\ttrain-rmspe:0.349643\teval-rmspe:0.336653\n",
      "[158]\ttrain-rmspe:0.346847\teval-rmspe:0.333573\n",
      "[159]\ttrain-rmspe:0.344152\teval-rmspe:0.330548\n",
      "[160]\ttrain-rmspe:0.341496\teval-rmspe:0.327580\n",
      "[161]\ttrain-rmspe:0.338944\teval-rmspe:0.324684\n",
      "[162]\ttrain-rmspe:0.336511\teval-rmspe:0.321933\n",
      "[163]\ttrain-rmspe:0.334167\teval-rmspe:0.319275\n",
      "[164]\ttrain-rmspe:0.331961\teval-rmspe:0.316755\n",
      "[165]\ttrain-rmspe:0.329740\teval-rmspe:0.314235\n",
      "[166]\ttrain-rmspe:0.327386\teval-rmspe:0.311654\n",
      "[167]\ttrain-rmspe:0.325081\teval-rmspe:0.309021\n",
      "[168]\ttrain-rmspe:0.322891\teval-rmspe:0.306506\n",
      "[169]\ttrain-rmspe:0.321016\teval-rmspe:0.304281\n",
      "[170]\ttrain-rmspe:0.318894\teval-rmspe:0.302014\n",
      "[171]\ttrain-rmspe:0.316958\teval-rmspe:0.299816\n",
      "[172]\ttrain-rmspe:0.315316\teval-rmspe:0.297838\n",
      "[173]\ttrain-rmspe:0.313710\teval-rmspe:0.295891\n",
      "[174]\ttrain-rmspe:0.312069\teval-rmspe:0.294012\n",
      "[175]\ttrain-rmspe:0.310610\teval-rmspe:0.292264\n",
      "[176]\ttrain-rmspe:0.309193\teval-rmspe:0.290514\n",
      "[177]\ttrain-rmspe:0.307836\teval-rmspe:0.288849\n",
      "[178]\ttrain-rmspe:0.306543\teval-rmspe:0.287285\n",
      "[179]\ttrain-rmspe:0.305315\teval-rmspe:0.285770\n",
      "[180]\ttrain-rmspe:0.304180\teval-rmspe:0.284334\n",
      "[181]\ttrain-rmspe:0.302788\teval-rmspe:0.282655\n",
      "[182]\ttrain-rmspe:0.301610\teval-rmspe:0.281250\n",
      "[183]\ttrain-rmspe:0.300685\teval-rmspe:0.280010\n",
      "[184]\ttrain-rmspe:0.299701\teval-rmspe:0.278766\n",
      "[185]\ttrain-rmspe:0.298661\teval-rmspe:0.277542\n",
      "[186]\ttrain-rmspe:0.297831\teval-rmspe:0.276460\n",
      "[187]\ttrain-rmspe:0.296900\teval-rmspe:0.275266\n",
      "[188]\ttrain-rmspe:0.296008\teval-rmspe:0.274029\n",
      "[189]\ttrain-rmspe:0.295344\teval-rmspe:0.273120\n",
      "[190]\ttrain-rmspe:0.294540\teval-rmspe:0.272059\n",
      "[191]\ttrain-rmspe:0.293819\teval-rmspe:0.271060\n",
      "[192]\ttrain-rmspe:0.292666\teval-rmspe:0.269926\n",
      "[193]\ttrain-rmspe:0.291966\teval-rmspe:0.269101\n",
      "[194]\ttrain-rmspe:0.291015\teval-rmspe:0.267914\n",
      "[195]\ttrain-rmspe:0.290585\teval-rmspe:0.267266\n",
      "[196]\ttrain-rmspe:0.289653\teval-rmspe:0.266072\n",
      "[197]\ttrain-rmspe:0.288705\teval-rmspe:0.264882\n",
      "[198]\ttrain-rmspe:0.287817\teval-rmspe:0.263938\n",
      "[199]\ttrain-rmspe:0.287141\teval-rmspe:0.262998\n",
      "[200]\ttrain-rmspe:0.286561\teval-rmspe:0.262209\n",
      "[201]\ttrain-rmspe:0.286243\teval-rmspe:0.261724\n",
      "[202]\ttrain-rmspe:0.285853\teval-rmspe:0.261130\n",
      "[203]\ttrain-rmspe:0.285424\teval-rmspe:0.260543\n",
      "[204]\ttrain-rmspe:0.285300\teval-rmspe:0.260194\n",
      "[205]\ttrain-rmspe:0.285162\teval-rmspe:0.259843\n",
      "[206]\ttrain-rmspe:0.284958\teval-rmspe:0.259469\n",
      "[207]\ttrain-rmspe:0.284383\teval-rmspe:0.258647\n",
      "[208]\ttrain-rmspe:0.283724\teval-rmspe:0.257861\n",
      "[209]\ttrain-rmspe:0.283443\teval-rmspe:0.257365\n",
      "[210]\ttrain-rmspe:0.283018\teval-rmspe:0.256762\n",
      "[211]\ttrain-rmspe:0.282477\teval-rmspe:0.256241\n",
      "[212]\ttrain-rmspe:0.282202\teval-rmspe:0.255853\n",
      "[213]\ttrain-rmspe:0.282031\teval-rmspe:0.255574\n",
      "[214]\ttrain-rmspe:0.281911\teval-rmspe:0.255343\n",
      "[215]\ttrain-rmspe:0.281810\teval-rmspe:0.255097\n",
      "[216]\ttrain-rmspe:0.281695\teval-rmspe:0.254853\n",
      "[217]\ttrain-rmspe:0.281748\teval-rmspe:0.254765\n",
      "[218]\ttrain-rmspe:0.281681\teval-rmspe:0.254577\n",
      "[219]\ttrain-rmspe:0.281415\teval-rmspe:0.254172\n",
      "[220]\ttrain-rmspe:0.281372\teval-rmspe:0.254003\n",
      "[221]\ttrain-rmspe:0.281310\teval-rmspe:0.253834\n",
      "[222]\ttrain-rmspe:0.280791\teval-rmspe:0.253111\n",
      "[223]\ttrain-rmspe:0.280771\teval-rmspe:0.253002\n",
      "[224]\ttrain-rmspe:0.280839\teval-rmspe:0.252972\n",
      "[225]\ttrain-rmspe:0.280779\teval-rmspe:0.252799\n",
      "[226]\ttrain-rmspe:0.280909\teval-rmspe:0.252815\n",
      "[227]\ttrain-rmspe:0.280711\teval-rmspe:0.252475\n",
      "[228]\ttrain-rmspe:0.280427\teval-rmspe:0.252083\n",
      "[229]\ttrain-rmspe:0.280462\teval-rmspe:0.252016\n",
      "[230]\ttrain-rmspe:0.280109\teval-rmspe:0.251538\n",
      "[231]\ttrain-rmspe:0.279853\teval-rmspe:0.251209\n",
      "[232]\ttrain-rmspe:0.279953\teval-rmspe:0.251241\n",
      "[233]\ttrain-rmspe:0.279769\teval-rmspe:0.250927\n",
      "[234]\ttrain-rmspe:0.279625\teval-rmspe:0.250657\n",
      "[235]\ttrain-rmspe:0.279262\teval-rmspe:0.250170\n",
      "[236]\ttrain-rmspe:0.279185\teval-rmspe:0.250105\n",
      "[237]\ttrain-rmspe:0.278971\teval-rmspe:0.249819\n",
      "[238]\ttrain-rmspe:0.278629\teval-rmspe:0.249405\n",
      "[239]\ttrain-rmspe:0.278304\teval-rmspe:0.248984\n",
      "[240]\ttrain-rmspe:0.278124\teval-rmspe:0.248699\n",
      "[241]\ttrain-rmspe:0.277367\teval-rmspe:0.247764\n",
      "[242]\ttrain-rmspe:0.277368\teval-rmspe:0.247691\n",
      "[243]\ttrain-rmspe:0.277071\teval-rmspe:0.247281\n",
      "[244]\ttrain-rmspe:0.277103\teval-rmspe:0.247221\n",
      "[245]\ttrain-rmspe:0.276933\teval-rmspe:0.246973\n",
      "[246]\ttrain-rmspe:0.277022\teval-rmspe:0.247030\n",
      "[247]\ttrain-rmspe:0.277055\teval-rmspe:0.247026\n",
      "[248]\ttrain-rmspe:0.277101\teval-rmspe:0.246975\n",
      "[249]\ttrain-rmspe:0.277261\teval-rmspe:0.247038\n",
      "[250]\ttrain-rmspe:0.276266\teval-rmspe:0.245881\n",
      "[251]\ttrain-rmspe:0.276250\teval-rmspe:0.245855\n",
      "[252]\ttrain-rmspe:0.276453\teval-rmspe:0.245961\n",
      "[253]\ttrain-rmspe:0.276588\teval-rmspe:0.246058\n",
      "[254]\ttrain-rmspe:0.276642\teval-rmspe:0.246051\n",
      "[255]\ttrain-rmspe:0.276443\teval-rmspe:0.245770\n",
      "[256]\ttrain-rmspe:0.276389\teval-rmspe:0.245665\n",
      "[257]\ttrain-rmspe:0.276138\teval-rmspe:0.245433\n",
      "[258]\ttrain-rmspe:0.276112\teval-rmspe:0.245383\n",
      "[259]\ttrain-rmspe:0.275868\teval-rmspe:0.244976\n",
      "[260]\ttrain-rmspe:0.275257\teval-rmspe:0.244227\n",
      "[261]\ttrain-rmspe:0.274167\teval-rmspe:0.243096\n",
      "[262]\ttrain-rmspe:0.274054\teval-rmspe:0.242926\n",
      "[263]\ttrain-rmspe:0.273476\teval-rmspe:0.242205\n",
      "[264]\ttrain-rmspe:0.273494\teval-rmspe:0.242188\n",
      "[265]\ttrain-rmspe:0.272686\teval-rmspe:0.241244\n",
      "[266]\ttrain-rmspe:0.272575\teval-rmspe:0.241088\n",
      "[267]\ttrain-rmspe:0.271562\teval-rmspe:0.239972\n",
      "[268]\ttrain-rmspe:0.270760\teval-rmspe:0.239026\n",
      "[269]\ttrain-rmspe:0.270717\teval-rmspe:0.238972\n",
      "[270]\ttrain-rmspe:0.270723\teval-rmspe:0.238962\n",
      "[271]\ttrain-rmspe:0.269745\teval-rmspe:0.237908\n",
      "[272]\ttrain-rmspe:0.269370\teval-rmspe:0.237443\n",
      "[273]\ttrain-rmspe:0.269348\teval-rmspe:0.237389\n",
      "[274]\ttrain-rmspe:0.269247\teval-rmspe:0.237338\n",
      "[275]\ttrain-rmspe:0.269229\teval-rmspe:0.237269\n",
      "[276]\ttrain-rmspe:0.268827\teval-rmspe:0.236808\n",
      "[277]\ttrain-rmspe:0.268753\teval-rmspe:0.236699\n",
      "[278]\ttrain-rmspe:0.268894\teval-rmspe:0.236778\n",
      "[279]\ttrain-rmspe:0.268525\teval-rmspe:0.236295\n",
      "[280]\ttrain-rmspe:0.268560\teval-rmspe:0.236278\n",
      "[281]\ttrain-rmspe:0.268690\teval-rmspe:0.236344\n",
      "[282]\ttrain-rmspe:0.268695\teval-rmspe:0.236312\n",
      "[283]\ttrain-rmspe:0.268233\teval-rmspe:0.235813\n",
      "[284]\ttrain-rmspe:0.268200\teval-rmspe:0.235766\n",
      "[285]\ttrain-rmspe:0.268339\teval-rmspe:0.235834\n",
      "[286]\ttrain-rmspe:0.268333\teval-rmspe:0.235819\n",
      "[287]\ttrain-rmspe:0.267278\teval-rmspe:0.234584\n",
      "[288]\ttrain-rmspe:0.267276\teval-rmspe:0.234559\n",
      "[289]\ttrain-rmspe:0.267069\teval-rmspe:0.234276\n",
      "[290]\ttrain-rmspe:0.267069\teval-rmspe:0.234264\n",
      "[291]\ttrain-rmspe:0.266120\teval-rmspe:0.233204\n",
      "[292]\ttrain-rmspe:0.266248\teval-rmspe:0.233271\n",
      "[293]\ttrain-rmspe:0.266205\teval-rmspe:0.233238\n",
      "[294]\ttrain-rmspe:0.266221\teval-rmspe:0.233236\n",
      "[295]\ttrain-rmspe:0.266243\teval-rmspe:0.233239\n",
      "[296]\ttrain-rmspe:0.265612\teval-rmspe:0.232455\n",
      "[297]\ttrain-rmspe:0.265291\teval-rmspe:0.232021\n",
      "[298]\ttrain-rmspe:0.265324\teval-rmspe:0.231984\n"
     ]
    },
    {
     "name": "stdout",
     "output_type": "stream",
     "text": [
      "Train a XGBoost model\n"
     ]
    },
    {
     "name": "stderr",
     "output_type": "stream",
     "text": [
      "[299]\ttrain-rmspe:0.264694\teval-rmspe:0.231187\n"
     ]
    }
   ],
   "source": [
    "print(\"Train a XGBoost model\")\n",
    "X_train, X_valid = train_test_split(train_df, test_size=0.012, random_state=10)\n",
    "y_train = np.log1p(X_train.Sales)\n",
    "y_valid = np.log1p(X_valid.Sales)\n",
    "dtrain = xgb.DMatrix(X_train[features], y_train)\n",
    "dvalid = xgb.DMatrix(X_valid[features], y_valid)\n",
    "\n",
    "watchlist = [(dtrain, 'train'), (dvalid, 'eval')]\n",
    "gbm = xgb.train(params, dtrain, num_boost_round, evals=watchlist, \\\n",
    "  early_stopping_rounds=100, feval=rmspe_xg, verbose_eval=True)\n"
   ]
  },
  {
   "cell_type": "code",
   "execution_count": 15,
   "metadata": {
    "collapsed": false
   },
   "outputs": [
    {
     "name": "stdout",
     "output_type": "stream",
     "text": [
      "Validating\n",
      "RMSPE: 0.231187\n",
      "Make predictions on the test set\n"
     ]
    }
   ],
   "source": [
    "print(\"Validating\")\n",
    "yhat = gbm.predict(xgb.DMatrix(X_valid[features]))\n",
    "error = rmspe(X_valid.Sales.values, np.expm1(yhat))\n",
    "print('RMSPE: {:.6f}'.format(error))\n",
    "\n",
    "print(\"Make predictions on the test set\")\n",
    "dtest = xgb.DMatrix(test_df[features])\n",
    "test_probs = gbm.predict(dtest)\n",
    "# Make Submission\n",
    "result = pd.DataFrame({\"Id\": test_df[\"Id\"], 'Sales': np.expm1(test_probs)})\n",
    "result.to_csv(\"xgboost_10_submission_3.csv\", index=False)"
   ]
  },
  {
   "cell_type": "code",
   "execution_count": 16,
   "metadata": {
    "collapsed": false
   },
   "outputs": [
    {
     "data": {
      "image/png": "[encoded data removed]",
      "text/plain": [
       "<matplotlib.figure.Figure at 0xa5c6748>"
      ]
     },
     "metadata": {},
     "output_type": "display_data"
    }
   ],
   "source": [
    "def create_feature_map(features):\n",
    "    outfile = open('xgb.fmap', 'w')\n",
    "    for i, feat in enumerate(features):\n",
    "        outfile.write('{0}\\t{1}\\tq\\n'.format(i, feat))\n",
    "    outfile.close()\n",
    "\n",
    "\n",
    "create_feature_map(features)\n",
    "importance = gbm.get_fscore(fmap='xgb.fmap')\n",
    "importance = sorted(importance.items(), key=operator.itemgetter(1))\n",
    "\n",
    "df = pd.DataFrame(importance, columns=['feature', 'fscore'])\n",
    "df['fscore'] = df['fscore'] / df['fscore'].sum()\n",
    "\n",
    "featp = df.plot(kind='barh', x='feature', y='fscore', legend=False, figsize=(6, 10))\n",
    "import matplotlib.pyplot as plt\n",
    "plt.title('XGBoost Feature Importance')\n",
    "plt.xlabel('relative importance')\n",
    "fig_featp = featp.get_figure()\n",
    "fig_featp.savefig('feature_importance_xgb_3.png', bbox_inches='tight', pad_inches=1)\n"
   ]
  },
  {
   "cell_type": "code",
   "execution_count": null,
   "metadata": {
    "collapsed": true
   },
   "outputs": [],
   "source": []
  }
 ],
 "metadata": {
  "kernelspec": {
   "display_name": "Python 3",
   "language": "python",
   "name": "python3"
  },
  "language_info": {
   "codemirror_mode": {
    "name": "ipython",
    "version": 3
   },
   "file_extension": ".py",
   "mimetype": "text/x-python",
   "name": "python",
   "nbconvert_exporter": "python",
   "pygments_lexer": "ipython3",
   "version": "3.4.3"
  }
 },
 "nbformat": 4,
 "nbformat_minor": 0
}
