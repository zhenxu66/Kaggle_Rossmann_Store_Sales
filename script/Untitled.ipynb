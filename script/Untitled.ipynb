{
 "cells": [
  {
   "cell_type": "code",
   "execution_count": 3,
   "metadata": {
    "collapsed": false
   },
   "outputs": [
    {
     "data": {
      "text/plain": [
       "1    4/22/1996\n",
       "2    4/23/1996\n",
       "3    5/14/1996\n",
       "4    5/15/1996\n",
       "5    5/16/2001\n",
       "6    5/17/2002\n",
       "7    5/18/2003\n",
       "8    5/19/2004\n",
       "9    5/20/2005\n",
       "Name: month_day_year, dtype: object"
      ]
     },
     "execution_count": 3,
     "metadata": {},
     "output_type": "execute_result"
    }
   ],
   "source": [
    "import pandas as pd\n",
    "dates = pd.read_clipboard(sep=\"\\t\",         # Read data from clipboard\n",
    "                          index_col=0)\n",
    "dates.ix[:,0]"
   ]
  },
  {
   "cell_type": "code",
   "execution_count": 6,
   "metadata": {
    "collapsed": false
   },
   "outputs": [
    {
     "data": {
      "text/html": [
       "<div>\n",
       "<table border=\"1\" class=\"dataframe\">\n",
       "  <thead>\n",
       "    <tr style=\"text-align: right;\">\n",
       "      <th></th>\n",
       "      <th>month_day_year</th>\n",
       "      <th>day_month_year</th>\n",
       "      <th>date_time</th>\n",
       "      <th>year_month_day</th>\n",
       "    </tr>\n",
       "  </thead>\n",
       "  <tbody>\n",
       "    <tr>\n",
       "      <th>1</th>\n",
       "      <td>4/22/1996</td>\n",
       "      <td>22-Apr-96</td>\n",
       "      <td>Tue Aug 11 09:50:35 1996</td>\n",
       "      <td>2007-06-22</td>\n",
       "    </tr>\n",
       "    <tr>\n",
       "      <th>2</th>\n",
       "      <td>4/23/1996</td>\n",
       "      <td>23-Apr-96</td>\n",
       "      <td>Tue May 12 19:50:35 2016</td>\n",
       "      <td>2017-01-09</td>\n",
       "    </tr>\n",
       "    <tr>\n",
       "      <th>3</th>\n",
       "      <td>5/14/1996</td>\n",
       "      <td>14-May-96</td>\n",
       "      <td>Mon Oct 14 09:50:35 2017</td>\n",
       "      <td>1998-04-12</td>\n",
       "    </tr>\n",
       "    <tr>\n",
       "      <th>4</th>\n",
       "      <td>5/15/1996</td>\n",
       "      <td>15-May-96</td>\n",
       "      <td>Tue Jan 11 09:50:35 2018</td>\n",
       "      <td>2027-07-22</td>\n",
       "    </tr>\n",
       "    <tr>\n",
       "      <th>5</th>\n",
       "      <td>5/16/2001</td>\n",
       "      <td>16-May-01</td>\n",
       "      <td>Fri Mar 11 07:30:36 2019</td>\n",
       "      <td>1945-11-15</td>\n",
       "    </tr>\n",
       "    <tr>\n",
       "      <th>6</th>\n",
       "      <td>5/17/2002</td>\n",
       "      <td>17-May-02</td>\n",
       "      <td>Tue Aug 11 09:50:35 2020</td>\n",
       "      <td>1942-06-22</td>\n",
       "    </tr>\n",
       "    <tr>\n",
       "      <th>7</th>\n",
       "      <td>5/18/2003</td>\n",
       "      <td>18-May-03</td>\n",
       "      <td>Wed Dec 21 09:50:35 2021</td>\n",
       "      <td>1887-06-13</td>\n",
       "    </tr>\n",
       "    <tr>\n",
       "      <th>8</th>\n",
       "      <td>5/19/2004</td>\n",
       "      <td>19-May-04</td>\n",
       "      <td>Tue Jan 11 09:50:35 2022</td>\n",
       "      <td>1912-01-25</td>\n",
       "    </tr>\n",
       "    <tr>\n",
       "      <th>9</th>\n",
       "      <td>5/20/2005</td>\n",
       "      <td>20-May-05</td>\n",
       "      <td>Sun Jul 10 19:40:25 2023</td>\n",
       "      <td>2007-06-22</td>\n",
       "    </tr>\n",
       "  </tbody>\n",
       "</table>\n",
       "</div>"
      ],
      "text/plain": [
       "  month_day_year day_month_year                 date_time year_month_day\n",
       "1      4/22/1996      22-Apr-96  Tue Aug 11 09:50:35 1996     2007-06-22\n",
       "2      4/23/1996      23-Apr-96  Tue May 12 19:50:35 2016     2017-01-09\n",
       "3      5/14/1996      14-May-96  Mon Oct 14 09:50:35 2017     1998-04-12\n",
       "4      5/15/1996      15-May-96  Tue Jan 11 09:50:35 2018     2027-07-22\n",
       "5      5/16/2001      16-May-01  Fri Mar 11 07:30:36 2019     1945-11-15\n",
       "6      5/17/2002      17-May-02  Tue Aug 11 09:50:35 2020     1942-06-22\n",
       "7      5/18/2003      18-May-03  Wed Dec 21 09:50:35 2021     1887-06-13\n",
       "8      5/19/2004      19-May-04  Tue Jan 11 09:50:35 2022     1912-01-25\n",
       "9      5/20/2005      20-May-05  Sun Jul 10 19:40:25 2023     2007-06-22"
      ]
     },
     "execution_count": 6,
     "metadata": {},
     "output_type": "execute_result"
    }
   ],
   "source": [
    "dates"
   ]
  },
  {
   "cell_type": "code",
   "execution_count": 19,
   "metadata": {
    "collapsed": false
   },
   "outputs": [
    {
     "name": "stdout",
     "output_type": "stream",
     "text": [
      "---------------\n"
     ]
    },
    {
     "data": {
      "text/plain": [
       "1    4/22/1996\n",
       "2    4/23/1996\n",
       "3    5/14/1996\n",
       "4    5/15/1996\n",
       "5    5/16/2001\n",
       "6    5/17/2002\n",
       "7    5/18/2003\n",
       "8    5/19/2004\n",
       "9    5/20/2005\n",
       "Name: month_day_year, dtype: object"
      ]
     },
     "execution_count": 19,
     "metadata": {},
     "output_type": "execute_result"
    }
   ],
   "source": [
    "#dates.ix[1:6,0]\n",
    "print(\"---------------\")\n",
    "dates.month_day_year"
   ]
  },
  {
   "cell_type": "code",
   "execution_count": 1,
   "metadata": {
    "collapsed": true
   },
   "outputs": [],
   "source": [
    "def dummy_object(df, Object_List):\n",
    "    dummy_list=[ ]\n",
    "    for x in Object_List:\n",
    "        df[x].fillna(\"Missing\", inplace=True) # Missing is also maybe a option for categorize\n",
    "        dummies = pd.get_dummies(df[x], prefix=x, prefix_sep=\"dummy\") # create dummies array\n",
    "        dummy_list=dummy_list.extend(list(dummies.dtypes.index))\n",
    "        df = pd.concat([df, dummies], axis=1) # put together\n",
    "        df.drop([x],axis=1, inplace=True)\n",
    "    return dummy_list"
   ]
  },
  {
   "cell_type": "code",
   "execution_count": null,
   "metadata": {
    "collapsed": true
   },
   "outputs": [],
   "source": []
  },
  {
   "cell_type": "code",
   "execution_count": 11,
   "metadata": {
    "collapsed": false
   },
   "outputs": [
    {
     "data": {
      "text/html": [
       "<div>\n",
       "<table border=\"1\" class=\"dataframe\">\n",
       "  <thead>\n",
       "    <tr style=\"text-align: right;\">\n",
       "      <th></th>\n",
       "      <th>day</th>\n",
       "      <th>dayofweek</th>\n",
       "      <th>dayofyear</th>\n",
       "      <th>hour</th>\n",
       "      <th>month</th>\n",
       "      <th>quarter</th>\n",
       "      <th>week</th>\n",
       "      <th>weekday</th>\n",
       "      <th>weekofyear</th>\n",
       "      <th>year</th>\n",
       "    </tr>\n",
       "  </thead>\n",
       "  <tbody>\n",
       "    <tr>\n",
       "      <th>1</th>\n",
       "      <td>22</td>\n",
       "      <td>0</td>\n",
       "      <td>113</td>\n",
       "      <td>0</td>\n",
       "      <td>4</td>\n",
       "      <td>2</td>\n",
       "      <td>17</td>\n",
       "      <td>0</td>\n",
       "      <td>17</td>\n",
       "      <td>1996</td>\n",
       "    </tr>\n",
       "    <tr>\n",
       "      <th>2</th>\n",
       "      <td>23</td>\n",
       "      <td>1</td>\n",
       "      <td>114</td>\n",
       "      <td>0</td>\n",
       "      <td>4</td>\n",
       "      <td>2</td>\n",
       "      <td>17</td>\n",
       "      <td>1</td>\n",
       "      <td>17</td>\n",
       "      <td>1996</td>\n",
       "    </tr>\n",
       "    <tr>\n",
       "      <th>3</th>\n",
       "      <td>14</td>\n",
       "      <td>1</td>\n",
       "      <td>135</td>\n",
       "      <td>0</td>\n",
       "      <td>5</td>\n",
       "      <td>2</td>\n",
       "      <td>20</td>\n",
       "      <td>1</td>\n",
       "      <td>20</td>\n",
       "      <td>1996</td>\n",
       "    </tr>\n",
       "    <tr>\n",
       "      <th>4</th>\n",
       "      <td>15</td>\n",
       "      <td>2</td>\n",
       "      <td>136</td>\n",
       "      <td>0</td>\n",
       "      <td>5</td>\n",
       "      <td>2</td>\n",
       "      <td>20</td>\n",
       "      <td>2</td>\n",
       "      <td>20</td>\n",
       "      <td>1996</td>\n",
       "    </tr>\n",
       "    <tr>\n",
       "      <th>5</th>\n",
       "      <td>16</td>\n",
       "      <td>2</td>\n",
       "      <td>136</td>\n",
       "      <td>0</td>\n",
       "      <td>5</td>\n",
       "      <td>2</td>\n",
       "      <td>20</td>\n",
       "      <td>2</td>\n",
       "      <td>20</td>\n",
       "      <td>2001</td>\n",
       "    </tr>\n",
       "    <tr>\n",
       "      <th>6</th>\n",
       "      <td>17</td>\n",
       "      <td>4</td>\n",
       "      <td>137</td>\n",
       "      <td>0</td>\n",
       "      <td>5</td>\n",
       "      <td>2</td>\n",
       "      <td>20</td>\n",
       "      <td>4</td>\n",
       "      <td>20</td>\n",
       "      <td>2002</td>\n",
       "    </tr>\n",
       "    <tr>\n",
       "      <th>7</th>\n",
       "      <td>18</td>\n",
       "      <td>6</td>\n",
       "      <td>138</td>\n",
       "      <td>0</td>\n",
       "      <td>5</td>\n",
       "      <td>2</td>\n",
       "      <td>20</td>\n",
       "      <td>6</td>\n",
       "      <td>20</td>\n",
       "      <td>2003</td>\n",
       "    </tr>\n",
       "    <tr>\n",
       "      <th>8</th>\n",
       "      <td>19</td>\n",
       "      <td>2</td>\n",
       "      <td>140</td>\n",
       "      <td>0</td>\n",
       "      <td>5</td>\n",
       "      <td>2</td>\n",
       "      <td>21</td>\n",
       "      <td>2</td>\n",
       "      <td>21</td>\n",
       "      <td>2004</td>\n",
       "    </tr>\n",
       "    <tr>\n",
       "      <th>9</th>\n",
       "      <td>20</td>\n",
       "      <td>4</td>\n",
       "      <td>140</td>\n",
       "      <td>0</td>\n",
       "      <td>5</td>\n",
       "      <td>2</td>\n",
       "      <td>20</td>\n",
       "      <td>4</td>\n",
       "      <td>20</td>\n",
       "      <td>2005</td>\n",
       "    </tr>\n",
       "  </tbody>\n",
       "</table>\n",
       "</div>"
      ],
      "text/plain": [
       "   day  dayofweek  dayofyear  hour  month  quarter  week  weekday  weekofyear  \\\n",
       "1   22          0        113     0      4        2    17        0          17   \n",
       "2   23          1        114     0      4        2    17        1          17   \n",
       "3   14          1        135     0      5        2    20        1          20   \n",
       "4   15          2        136     0      5        2    20        2          20   \n",
       "5   16          2        136     0      5        2    20        2          20   \n",
       "6   17          4        137     0      5        2    20        4          20   \n",
       "7   18          6        138     0      5        2    20        6          20   \n",
       "8   19          2        140     0      5        2    21        2          21   \n",
       "9   20          4        140     0      5        2    20        4          20   \n",
       "\n",
       "   year  \n",
       "1  1996  \n",
       "2  1996  \n",
       "3  1996  \n",
       "4  1996  \n",
       "5  2001  \n",
       "6  2002  \n",
       "7  2003  \n",
       "8  2004  \n",
       "9  2005  "
      ]
     },
     "execution_count": 11,
     "metadata": {},
     "output_type": "execute_result"
    }
   ],
   "source": [
    "column_1=pd.to_datetime(dates.ix[:,0])\n",
    "pd.DataFrame({\"year\": column_1.dt.year,\n",
    "              \"month\": column_1.dt.month,\n",
    "              \"day\": column_1.dt.day,\n",
    "              \"hour\": column_1.dt.hour,\n",
    "              \"dayofyear\": column_1.dt.dayofyear,\n",
    "              \"week\": column_1.dt.week,\n",
    "              \"weekofyear\": column_1.dt.weekofyear,\n",
    "              \"dayofweek\": column_1.dt.dayofweek,\n",
    "              \"weekday\": column_1.dt.weekday,\n",
    "              \"quarter\": column_1.dt.quarter,\n",
    "             })"
   ]
  },
  {
   "cell_type": "code",
   "execution_count": 2,
   "metadata": {
    "collapsed": true
   },
   "outputs": [],
   "source": [
    "def String_list_find(list, spec):\n",
    "    result = []\n",
    "    for string in list:\n",
    "        if string.find(spec) != -1:\n",
    "            result.append(string)\n",
    "    return result"
   ]
  },
  {
   "cell_type": "code",
   "execution_count": 4,
   "metadata": {
    "collapsed": false
   },
   "outputs": [
    {
     "data": {
      "text/plain": [
       "['a1', 'a2']"
      ]
     },
     "execution_count": 4,
     "metadata": {},
     "output_type": "execute_result"
    }
   ],
   "source": [
    "String_list_find(['a1','a2','b1'],'a')"
   ]
  },
  {
   "cell_type": "code",
   "execution_count": 5,
   "metadata": {
    "collapsed": true
   },
   "outputs": [],
   "source": [
    "def List_diffa(a, b):\n",
    "    b = set(b)\n",
    "    return [aa for aa in a if aa not in b]"
   ]
  },
  {
   "cell_type": "code",
   "execution_count": 6,
   "metadata": {
    "collapsed": false
   },
   "outputs": [
    {
     "data": {
      "text/plain": [
       "['b']"
      ]
     },
     "execution_count": 6,
     "metadata": {},
     "output_type": "execute_result"
    }
   ],
   "source": [
    "List_diffa(['a','b'],['a'])"
   ]
  },
  {
   "cell_type": "code",
   "execution_count": null,
   "metadata": {
    "collapsed": true
   },
   "outputs": [],
   "source": []
  }
 ],
 "metadata": {
  "kernelspec": {
   "display_name": "Python 3",
   "language": "python",
   "name": "python3"
  },
  "language_info": {
   "codemirror_mode": {
    "name": "ipython",
    "version": 3
   },
   "file_extension": ".py",
   "mimetype": "text/x-python",
   "name": "python",
   "nbconvert_exporter": "python",
   "pygments_lexer": "ipython3",
   "version": "3.4.3"
  }
 },
 "nbformat": 4,
 "nbformat_minor": 0
}
