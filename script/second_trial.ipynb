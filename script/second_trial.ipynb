{
 "cells": [
  {
   "cell_type": "code",
   "execution_count": 1,
   "metadata": {
    "collapsed": false
   },
   "outputs": [],
   "source": [
    "import pandas as pd\n",
    "import numpy as np\n",
    "\n",
    "import xgboost as xgb\n",
    "from sklearn.linear_model import LinearRegression\n",
    "from sklearn.linear_model import LogisticRegression\n",
    "from sklearn.svm import SVC, LinearSVC\n",
    "from sklearn.ensemble import RandomForestClassifier\n",
    "from sklearn.neighbors import KNeighborsClassifier\n",
    "from sklearn.naive_bayes import GaussianNB\n",
    "from sklearn.cross_validation import train_test_split\n",
    "from sklearn import cross_validation\n",
    "\n",
    "import operator\n",
    "import matplotlib\n",
    "import seaborn as sns\n",
    "sns.set_style('whitegrid')\n",
    "%matplotlib inline"
   ]
  },
  {
   "cell_type": "code",
   "execution_count": 2,
   "metadata": {
    "collapsed": false
   },
   "outputs": [
    {
     "name": "stdout",
     "output_type": "stream",
     "text": [
      "Load the training, test and store data using pandas\n"
     ]
    }
   ],
   "source": [
    "# (1) read in data\n",
    "print(\"Load the training, test and store data using pandas\")\n",
    "types = {'StateHoliday': np.dtype(str),\n",
    "         'SchoolHoliday': np.dtype(float),\n",
    "         'PromoInterval': np.dtype(str),\n",
    "         'Assortment': np.dtype(str), \n",
    "         'PromoInterval': np.dtype(str),\n",
    "         'StoreType': np.dtype(str)\n",
    "        }\n",
    "\n",
    "\n",
    "train_df = pd.read_csv(\"../data/train.csv\", dtype=types)\n",
    "store_df = pd.read_csv(\"../data/store.csv\", dtype=types, keep_default_na=False, na_values= '')\n",
    "test_df = pd.read_csv(\"../data/test.csv\", dtype=types)"
   ]
  },
  {
   "cell_type": "code",
   "execution_count": 3,
   "metadata": {
    "collapsed": false
   },
   "outputs": [],
   "source": [
    "# (2) show data feature\n",
    "#train_df[0:10]"
   ]
  },
  {
   "cell_type": "code",
   "execution_count": 4,
   "metadata": {
    "collapsed": false
   },
   "outputs": [],
   "source": [
    "#store_df[0:10]"
   ]
  },
  {
   "cell_type": "code",
   "execution_count": 5,
   "metadata": {
    "collapsed": false
   },
   "outputs": [
    {
     "data": {
      "text/plain": [
       "'print(\"\\n\"+\"----train-------\")\\ntrain_df.info()\\nprint(\"\\n\"+\"----store----------\")\\nstore_df.info()\\nprint(\"\\n\"+\"----test----------\")\\ntest_df.info()'"
      ]
     },
     "execution_count": 5,
     "metadata": {},
     "output_type": "execute_result"
    }
   ],
   "source": [
    "# show all data features\n",
    "'''print(\"\\n\"+\"----train-------\")\n",
    "train_df.info()\n",
    "print(\"\\n\"+\"----store----------\")\n",
    "store_df.info()\n",
    "print(\"\\n\"+\"----test----------\")\n",
    "test_df.info()'''"
   ]
  },
  {
   "cell_type": "code",
   "execution_count": 6,
   "metadata": {
    "collapsed": false
   },
   "outputs": [],
   "source": [
    "def describe_object(X):\n",
    "    # return object variables only\n",
    "    from IPython.display import display, HTML\n",
    "    display(HTML(X[X.columns[X.dtypes == \"object\"]].describe().to_html()))\n",
    "    \n",
    "def show_object(X):\n",
    "    category=np.unique(list(X.select_dtypes(['object'])))\n",
    "    print(\"------------------Categorical Columns---------------------\")\n",
    "    print(category)\n",
    "    print(\"\\n\")\n",
    "    print(\"------------List all----------------------\")\n",
    "    for column in category:\n",
    "        {\n",
    "        print(column + ':' + str(np.unique(list(X[column])))+'\\n')\n",
    "        }\n",
    "\n",
    "def show_object_No(X, No):\n",
    "    category=np.unique(list(filter(lambda x: x!= No, X.select_dtypes(['object']))))\n",
    "    print(\"----------Categorical Columns------remove-\"+No+\"--------------\")\n",
    "    print(category)\n",
    "    print(\"\\n\")\n",
    "    print(\"------------List all----------------------\")\n",
    "    for column in category:\n",
    "        {\n",
    "        print(column + ':' + str(np.unique(list(X[column])))+'\\n')\n",
    "        }\n",
    "        \n",
    "def show_object_NoList(X, NoList):\n",
    "    category=np.unique(list(filter(lambda x: (x not in NoList), X.select_dtypes(['object']))))\n",
    "    print(\"----------Categorical Columns---remove----\"+', '.join(NoList)+\"--------------\")\n",
    "    print(category)\n",
    "    print(\"\\n\")\n",
    "    print(\"------------List all----------------------\")\n",
    "    for column in category:\n",
    "        {\n",
    "        print(column + ':' + str(np.unique(list(X[column])))+'\\n')\n",
    "        }\n",
    "        \n",
    "def dummy_object(df, Object_List):\n",
    "    df2 = df\n",
    "    for x in Object_List:\n",
    "        df[x].fillna(\"Missing\", inplace=True) # Missing is also maybe a option for categorize\n",
    "        dummies = pd.get_dummies(df[x], prefix=x, prefix_sep=\"dummy\") # create dummies array\n",
    "        df2 = pd.concat([df2, dummies], axis=1) # put together previous put df here only get last concat\n",
    "        df2.drop([x],axis=1, inplace=True)\n",
    "    return df2\n",
    "\n",
    "def String_list_find(list, spec):\n",
    "    result = []\n",
    "    for string in list:\n",
    "        if string.find(spec) != -1:\n",
    "            result.append(string)\n",
    "    return result\n",
    "\n",
    "def List_diffa(a, b):\n",
    "    b = set(b)\n",
    "    return [aa for aa in a if aa not in b]"
   ]
  },
  {
   "cell_type": "code",
   "execution_count": 7,
   "metadata": {
    "collapsed": false
   },
   "outputs": [
    {
     "name": "stdout",
     "output_type": "stream",
     "text": [
      "----------------------------train Data---------------------------------\n"
     ]
    },
    {
     "data": {
      "text/html": [
       "<table border=\"1\" class=\"dataframe\">\n",
       "  <thead>\n",
       "    <tr style=\"text-align: right;\">\n",
       "      <th></th>\n",
       "      <th>Date</th>\n",
       "      <th>StateHoliday</th>\n",
       "    </tr>\n",
       "  </thead>\n",
       "  <tbody>\n",
       "    <tr>\n",
       "      <th>count</th>\n",
       "      <td>1017209</td>\n",
       "      <td>1017209</td>\n",
       "    </tr>\n",
       "    <tr>\n",
       "      <th>unique</th>\n",
       "      <td>942</td>\n",
       "      <td>4</td>\n",
       "    </tr>\n",
       "    <tr>\n",
       "      <th>top</th>\n",
       "      <td>2015-07-23</td>\n",
       "      <td>0</td>\n",
       "    </tr>\n",
       "    <tr>\n",
       "      <th>freq</th>\n",
       "      <td>1115</td>\n",
       "      <td>986159</td>\n",
       "    </tr>\n",
       "  </tbody>\n",
       "</table>"
      ],
      "text/plain": [
       "<IPython.core.display.HTML object>"
      ]
     },
     "metadata": {},
     "output_type": "display_data"
    },
    {
     "name": "stdout",
     "output_type": "stream",
     "text": [
      "----------Categorical Columns------remove-Date--------------\n",
      "['StateHoliday']\n",
      "\n",
      "\n",
      "------------List all----------------------\n",
      "StateHoliday:['0' 'a' 'b' 'c']\n",
      "\n",
      "-----------------------------test Data-----------------------------\n"
     ]
    },
    {
     "data": {
      "text/html": [
       "<table border=\"1\" class=\"dataframe\">\n",
       "  <thead>\n",
       "    <tr style=\"text-align: right;\">\n",
       "      <th></th>\n",
       "      <th>Date</th>\n",
       "      <th>StateHoliday</th>\n",
       "    </tr>\n",
       "  </thead>\n",
       "  <tbody>\n",
       "    <tr>\n",
       "      <th>count</th>\n",
       "      <td>41088</td>\n",
       "      <td>41088</td>\n",
       "    </tr>\n",
       "    <tr>\n",
       "      <th>unique</th>\n",
       "      <td>48</td>\n",
       "      <td>2</td>\n",
       "    </tr>\n",
       "    <tr>\n",
       "      <th>top</th>\n",
       "      <td>2015-08-04</td>\n",
       "      <td>0</td>\n",
       "    </tr>\n",
       "    <tr>\n",
       "      <th>freq</th>\n",
       "      <td>856</td>\n",
       "      <td>40908</td>\n",
       "    </tr>\n",
       "  </tbody>\n",
       "</table>"
      ],
      "text/plain": [
       "<IPython.core.display.HTML object>"
      ]
     },
     "metadata": {},
     "output_type": "display_data"
    },
    {
     "name": "stdout",
     "output_type": "stream",
     "text": [
      "----------Categorical Columns------remove-Date--------------\n",
      "['StateHoliday']\n",
      "\n",
      "\n",
      "------------List all----------------------\n",
      "StateHoliday:['0' 'a']\n",
      "\n",
      "----------------------------store Data-------------------------------\n"
     ]
    },
    {
     "data": {
      "text/html": [
       "<table border=\"1\" class=\"dataframe\">\n",
       "  <thead>\n",
       "    <tr style=\"text-align: right;\">\n",
       "      <th></th>\n",
       "      <th>StoreType</th>\n",
       "      <th>Assortment</th>\n",
       "      <th>PromoInterval</th>\n",
       "    </tr>\n",
       "  </thead>\n",
       "  <tbody>\n",
       "    <tr>\n",
       "      <th>count</th>\n",
       "      <td>1115</td>\n",
       "      <td>1115</td>\n",
       "      <td>571</td>\n",
       "    </tr>\n",
       "    <tr>\n",
       "      <th>unique</th>\n",
       "      <td>4</td>\n",
       "      <td>3</td>\n",
       "      <td>3</td>\n",
       "    </tr>\n",
       "    <tr>\n",
       "      <th>top</th>\n",
       "      <td>a</td>\n",
       "      <td>a</td>\n",
       "      <td>Jan,Apr,Jul,Oct</td>\n",
       "    </tr>\n",
       "    <tr>\n",
       "      <th>freq</th>\n",
       "      <td>602</td>\n",
       "      <td>593</td>\n",
       "      <td>335</td>\n",
       "    </tr>\n",
       "  </tbody>\n",
       "</table>"
      ],
      "text/plain": [
       "<IPython.core.display.HTML object>"
      ]
     },
     "metadata": {},
     "output_type": "display_data"
    },
    {
     "name": "stdout",
     "output_type": "stream",
     "text": [
      "------------------Categorical Columns---------------------\n",
      "['Assortment' 'PromoInterval' 'StoreType']\n",
      "\n",
      "\n",
      "------------List all----------------------\n",
      "Assortment:['a' 'b' 'c']\n",
      "\n",
      "PromoInterval:['Feb,May,Aug,Nov' 'Jan,Apr,Jul,Oct' 'Mar,Jun,Sept,Dec' 'nan']\n",
      "\n",
      "StoreType:['a' 'b' 'c' 'd']\n",
      "\n"
     ]
    }
   ],
   "source": [
    "print(\"----------------------------train Data---------------------------------\")\n",
    "describe_object(train_df)\n",
    "show_object_No(train_df,'Date')\n",
    "print(\"-----------------------------test Data-----------------------------\")\n",
    "describe_object(test_df)\n",
    "show_object_No(test_df,'Date')\n",
    "print(\"----------------------------store Data-------------------------------\")\n",
    "describe_object(store_df)\n",
    "show_object(store_df)"
   ]
  },
  {
   "cell_type": "code",
   "execution_count": 8,
   "metadata": {
    "collapsed": false
   },
   "outputs": [],
   "source": [
    "# features_build: features List;  data (data frame in -> data frame out)\n",
    "def features_build(features, data):\n",
    "    # fill nan with 0\n",
    "    data.fillna(0, inplace=True)\n",
    "    #data.loc[data.open.isnull(), 'Open'] =1\n",
    "    #features as a list to store reference columns for training\n",
    "    features.extend(['Store', 'CompetitionDistance', 'Promo', 'Promo2', 'SchoolHoliday'])\n",
    "    \n",
    "    # add columns (features list and then data import)\n",
    "    #(1) categorical to 12345 mapping\n",
    "    '''features.extend(['StoreType', 'Assortment', 'StateHoliday'])\n",
    "    mappings = {'a':1, 'b':2, 'c':3, 'd':4, '0':0}\n",
    "    data.StoreType.replace(mappings, inplace=True)\n",
    "    data.Assortment.replace(mappings, inplace=True)\n",
    "    data.StateHoliday.replace(mappings, inplace=True)'''\n",
    "    #(1) dummy\n",
    "    dummy_str=['StoreType', 'Assortment', 'StateHoliday']\n",
    "    #print(\"input dataframe index\")\n",
    "    #print(data.dtypes.index)\n",
    "    data=dummy_object(data, dummy_str)\n",
    "    #print(\"output dataframe index after dummy\")\n",
    "    #print(data.dtypes.index)\n",
    "    features.extend(String_list_find(list(data.dtypes.index),'dummy'))\n",
    "    \n",
    "    \n",
    "    #(2) Date \n",
    "    features.extend(['DayofWeek', 'Month', 'Day', 'Year', 'WeekofYear'])\n",
    "    data['Year'] = pd.to_datetime(data.Date).dt.year\n",
    "    data['Month'] = pd.to_datetime(data.Date).dt.month\n",
    "    data['Day'] = pd.to_datetime(data.Date).dt.day\n",
    "    data['DayofWeek'] = pd.to_datetime(data.Date).dt.dayofweek\n",
    "    data['WeekofYear'] = pd.to_datetime(data.Date).dt.weekofyear\n",
    "    \n",
    "    #(3) Other time\n",
    "    features.extend(['CompetitionOpenMonth'])\n",
    "    data['CompetitionOpenMonth'] = (data.Month - data.CompetitionOpenSinceMonth) + 12 * (data.Year - data.CompetitionOpenSinceYear)\n",
    "    \n",
    "    features.extend(['Promo2SinceMonth'])\n",
    "    data['Promo2SinceMonth'] = (data.WeekofYear - data.Promo2SinceWeek)/4 + 12 * (data.Year - data.Promo2SinceYear)\n",
    "    data['Promo2SinceMonth'] = data.Promo2SinceMonth.apply(lambda x: x if x > 0 else 0)\n",
    "    data.loc[data.Promo2SinceYear == 0, 'Promo2SinceMonth'] = 0\n",
    "    \n",
    "    \n",
    "    features.append('IsPromoMonth')\n",
    "    month2str = {1:'Jan', 2:'Feb', 3:'Mar', 4:'Apr', 5:'May', 6:'Jun', \\\n",
    "             7:'Jul', 8:'Aug', 9:'Sept', 10:'Oct', 11:'Nov', 12:'Dec'}\n",
    "    data['monthStr'] = data.Month.map(month2str)\n",
    "    data.loc[data.PromoInterval == 0, 'PromoInterval'] = ''\n",
    "    data['IsPromoMonth'] = 0\n",
    "    for interval in data.PromoInterval.unique():\n",
    "        if interval != '':\n",
    "            for month in interval.split(','):\n",
    "                data.loc[(data.monthStr == month) & (data.PromoInterval == interval), 'IsPromoMonth'] = 1\n",
    "                \n",
    "    return data\n",
    "\n"
   ]
  },
  {
   "cell_type": "code",
   "execution_count": 9,
   "metadata": {
    "collapsed": false
   },
   "outputs": [],
   "source": [
    "##"
   ]
  },
  {
   "cell_type": "code",
   "execution_count": 10,
   "metadata": {
    "collapsed": false
   },
   "outputs": [
    {
     "name": "stdout",
     "output_type": "stream",
     "text": [
      "Assume store open, if not provided\n",
      "Consider only open stores for training. Closed stores wont count into the score.\n",
      "Use only Sales bigger then zero\n",
      "Join with store\n"
     ]
    }
   ],
   "source": [
    "print(\"Assume store open, if not provided\")\n",
    "test_df.fillna(1, inplace=True)\n",
    "\n",
    "print(\"Consider only open stores for training. Closed stores wont count into the score.\")\n",
    "train_df = train_df[train_df[\"Open\"] != 0]\n",
    "print(\"Use only Sales bigger then zero\")\n",
    "train_df = train_df[train_df[\"Sales\"] > 0]\n",
    "\n",
    "print(\"Join with store\")\n",
    "train_df = pd.merge(train_df, store_df, on='Store')\n",
    "test_df = pd.merge(test_df, store_df, on='Store')\n",
    "#print(train_df.dtypes.index)\n",
    "#print(test_df.dtypes.index)"
   ]
  },
  {
   "cell_type": "code",
   "execution_count": 11,
   "metadata": {
    "collapsed": false
   },
   "outputs": [
    {
     "name": "stdout",
     "output_type": "stream",
     "text": [
      "augment features\n",
      "training data processed\n"
     ]
    }
   ],
   "source": [
    "features = []\n",
    "\n",
    "print(\"augment features\")\n",
    "train_df = features_build(features, train_df)\n",
    "#print(features)\n",
    "test_df = features_build([], test_df)\n",
    "\n",
    "# add new columns (with zero) to test_df, these columns are in training, not in testing\n",
    "train_columns = list(train_df.dtypes.index)\n",
    "test_columns = list(test_df.dtypes.index)\n",
    "train_more = List_diffa(train_columns, test_columns)\n",
    "for col in train_more:\n",
    "    test_df[col]=0\n",
    "\n",
    "\n",
    "print('training data processed')\n",
    "\n",
    "def rmspe(y, yhat):\n",
    "    return np.sqrt(np.mean(((y - yhat)/y) ** 2))\n",
    "\n",
    "def rmspe_xg(yhat, y):\n",
    "    y = np.expm1(y.get_label())\n",
    "    yhat = np.expm1(yhat)\n",
    "    return \"rmspe\", rmspe(y, yhat)\n"
   ]
  },
  {
   "cell_type": "code",
   "execution_count": 12,
   "metadata": {
    "collapsed": false
   },
   "outputs": [],
   "source": [
    "#check columns in training and testing\n",
    "#print(train_df.dtypes.index)\n",
    "#print(\"----------------------\")\n",
    "#print(test_df.dtypes.index)"
   ]
  },
  {
   "cell_type": "code",
   "execution_count": 13,
   "metadata": {
    "collapsed": false,
    "scrolled": true
   },
   "outputs": [
    {
     "name": "stdout",
     "output_type": "stream",
     "text": [
      "Train xgboost model Parameters\n"
     ]
    }
   ],
   "source": [
    "print(\"Train xgboost model Parameters\")\n",
    "\n",
    "params = {\"objective\": \"reg:linear\",\n",
    "          \"booster\" : \"gbtree\",\n",
    "          \"eta\": 0.1,\n",
    "          \"max_depth\": 10,\n",
    "          \"subsample\": 0.85,\n",
    "          \"colsample_bytree\": 0.4,\n",
    "          \"min_child_weight\": 6,\n",
    "          \"silent\": 1,\n",
    "          \"thread\": 1,\n",
    "          \"seed\": 1301\n",
    "          }\n",
    "num_boost_round = 300"
   ]
  },
  {
   "cell_type": "code",
   "execution_count": 14,
   "metadata": {
    "collapsed": false
   },
   "outputs": [
    {
     "name": "stderr",
     "output_type": "stream",
     "text": [
      "Will train until eval error hasn't decreased in 100 rounds.\n",
      "[0]\ttrain-rmspe:0.999525\teval-rmspe:0.999524\n",
      "[1]\ttrain-rmspe:0.998817\teval-rmspe:0.998815\n",
      "[2]\ttrain-rmspe:0.997532\teval-rmspe:0.997529\n",
      "[3]\ttrain-rmspe:0.995367\teval-rmspe:0.995362\n",
      "[4]\ttrain-rmspe:0.991950\teval-rmspe:0.991946\n",
      "[5]\ttrain-rmspe:0.986815\teval-rmspe:0.986810\n",
      "[6]\ttrain-rmspe:0.979532\teval-rmspe:0.979522\n",
      "[7]\ttrain-rmspe:0.969635\teval-rmspe:0.969625\n",
      "[8]\ttrain-rmspe:0.956776\teval-rmspe:0.956761\n",
      "[9]\ttrain-rmspe:0.940591\teval-rmspe:0.940549\n",
      "[10]\ttrain-rmspe:0.920960\teval-rmspe:0.920895\n",
      "[11]\ttrain-rmspe:0.897863\teval-rmspe:0.897749\n",
      "[12]\ttrain-rmspe:0.871506\teval-rmspe:0.871344\n",
      "[13]\ttrain-rmspe:0.842061\teval-rmspe:0.841803\n",
      "[14]\ttrain-rmspe:0.810033\teval-rmspe:0.809647\n",
      "[15]\ttrain-rmspe:0.776124\teval-rmspe:0.775586\n",
      "[16]\ttrain-rmspe:0.740779\teval-rmspe:0.739956\n",
      "[17]\ttrain-rmspe:0.704334\teval-rmspe:0.703151\n",
      "[18]\ttrain-rmspe:0.667746\teval-rmspe:0.666043\n",
      "[19]\ttrain-rmspe:0.631276\teval-rmspe:0.628953\n",
      "[20]\ttrain-rmspe:0.595434\teval-rmspe:0.592541\n",
      "[21]\ttrain-rmspe:0.560841\teval-rmspe:0.557149\n",
      "[22]\ttrain-rmspe:0.527784\teval-rmspe:0.523128\n",
      "[23]\ttrain-rmspe:0.497001\teval-rmspe:0.491112\n",
      "[24]\ttrain-rmspe:0.467992\teval-rmspe:0.460892\n",
      "[25]\ttrain-rmspe:0.441344\teval-rmspe:0.432749\n",
      "[26]\ttrain-rmspe:0.417770\teval-rmspe:0.407600\n",
      "[27]\ttrain-rmspe:0.396930\teval-rmspe:0.384985\n",
      "[28]\ttrain-rmspe:0.378755\teval-rmspe:0.365022\n",
      "[29]\ttrain-rmspe:0.363713\teval-rmspe:0.348085\n",
      "[30]\ttrain-rmspe:0.349419\teval-rmspe:0.331966\n",
      "[31]\ttrain-rmspe:0.338776\teval-rmspe:0.319402\n",
      "[32]\ttrain-rmspe:0.329702\teval-rmspe:0.308569\n",
      "[33]\ttrain-rmspe:0.321683\teval-rmspe:0.298492\n",
      "[34]\ttrain-rmspe:0.314907\teval-rmspe:0.289704\n",
      "[35]\ttrain-rmspe:0.310067\teval-rmspe:0.283321\n",
      "[36]\ttrain-rmspe:0.304627\teval-rmspe:0.276561\n",
      "[37]\ttrain-rmspe:0.297985\teval-rmspe:0.269419\n",
      "[38]\ttrain-rmspe:0.296617\teval-rmspe:0.266932\n",
      "[39]\ttrain-rmspe:0.293314\teval-rmspe:0.262625\n",
      "[40]\ttrain-rmspe:0.291631\teval-rmspe:0.259977\n",
      "[41]\ttrain-rmspe:0.288883\teval-rmspe:0.256330\n",
      "[42]\ttrain-rmspe:0.286431\teval-rmspe:0.252679\n",
      "[43]\ttrain-rmspe:0.286768\teval-rmspe:0.252508\n",
      "[44]\ttrain-rmspe:0.286669\teval-rmspe:0.251715\n",
      "[45]\ttrain-rmspe:0.286628\teval-rmspe:0.251140\n",
      "[46]\ttrain-rmspe:0.286632\teval-rmspe:0.250463\n",
      "[47]\ttrain-rmspe:0.287089\teval-rmspe:0.250628\n",
      "[48]\ttrain-rmspe:0.287695\teval-rmspe:0.250836\n",
      "[49]\ttrain-rmspe:0.288341\teval-rmspe:0.251068\n",
      "[50]\ttrain-rmspe:0.286446\teval-rmspe:0.248672\n",
      "[51]\ttrain-rmspe:0.286701\teval-rmspe:0.248854\n",
      "[52]\ttrain-rmspe:0.287048\teval-rmspe:0.249073\n",
      "[53]\ttrain-rmspe:0.287264\teval-rmspe:0.249109\n",
      "[54]\ttrain-rmspe:0.285554\teval-rmspe:0.247182\n",
      "[55]\ttrain-rmspe:0.285362\teval-rmspe:0.246841\n",
      "[56]\ttrain-rmspe:0.285541\teval-rmspe:0.246906\n",
      "[57]\ttrain-rmspe:0.284849\teval-rmspe:0.246028\n",
      "[58]\ttrain-rmspe:0.284476\teval-rmspe:0.245655\n",
      "[59]\ttrain-rmspe:0.283981\teval-rmspe:0.245189\n",
      "[60]\ttrain-rmspe:0.284388\teval-rmspe:0.245349\n",
      "[61]\ttrain-rmspe:0.283422\teval-rmspe:0.244150\n",
      "[62]\ttrain-rmspe:0.281771\teval-rmspe:0.242303\n",
      "[63]\ttrain-rmspe:0.281310\teval-rmspe:0.241651\n",
      "[64]\ttrain-rmspe:0.279405\teval-rmspe:0.239281\n",
      "[65]\ttrain-rmspe:0.278932\teval-rmspe:0.238627\n",
      "[66]\ttrain-rmspe:0.278505\teval-rmspe:0.238126\n",
      "[67]\ttrain-rmspe:0.277226\teval-rmspe:0.236663\n",
      "[68]\ttrain-rmspe:0.276111\teval-rmspe:0.235184\n",
      "[69]\ttrain-rmspe:0.275616\teval-rmspe:0.234725\n",
      "[70]\ttrain-rmspe:0.275614\teval-rmspe:0.234674\n",
      "[71]\ttrain-rmspe:0.275129\teval-rmspe:0.234245\n",
      "[72]\ttrain-rmspe:0.272719\teval-rmspe:0.231267\n",
      "[73]\ttrain-rmspe:0.271584\teval-rmspe:0.229912\n",
      "[74]\ttrain-rmspe:0.269290\teval-rmspe:0.228724\n",
      "[75]\ttrain-rmspe:0.267347\teval-rmspe:0.226185\n",
      "[76]\ttrain-rmspe:0.266793\teval-rmspe:0.225430\n",
      "[77]\ttrain-rmspe:0.266685\teval-rmspe:0.225335\n",
      "[78]\ttrain-rmspe:0.265151\teval-rmspe:0.223327\n",
      "[79]\ttrain-rmspe:0.264427\teval-rmspe:0.222346\n",
      "[80]\ttrain-rmspe:0.262506\teval-rmspe:0.220006\n",
      "[81]\ttrain-rmspe:0.260168\teval-rmspe:0.218645\n",
      "[82]\ttrain-rmspe:0.258938\teval-rmspe:0.217249\n",
      "[83]\ttrain-rmspe:0.258168\teval-rmspe:0.215842\n",
      "[84]\ttrain-rmspe:0.254103\teval-rmspe:0.212260\n",
      "[85]\ttrain-rmspe:0.252253\teval-rmspe:0.210039\n",
      "[86]\ttrain-rmspe:0.251437\teval-rmspe:0.209083\n",
      "[87]\ttrain-rmspe:0.251152\teval-rmspe:0.208640\n",
      "[88]\ttrain-rmspe:0.249643\teval-rmspe:0.207230\n",
      "[89]\ttrain-rmspe:0.249316\teval-rmspe:0.206796\n",
      "[90]\ttrain-rmspe:0.248349\teval-rmspe:0.205620\n",
      "[91]\ttrain-rmspe:0.247596\teval-rmspe:0.204901\n",
      "[92]\ttrain-rmspe:0.245356\teval-rmspe:0.202433\n",
      "[93]\ttrain-rmspe:0.244150\teval-rmspe:0.201059\n",
      "[94]\ttrain-rmspe:0.243903\teval-rmspe:0.200823\n",
      "[95]\ttrain-rmspe:0.243255\teval-rmspe:0.200007\n",
      "[96]\ttrain-rmspe:0.243191\teval-rmspe:0.199421\n",
      "[97]\ttrain-rmspe:0.241856\teval-rmspe:0.197920\n",
      "[98]\ttrain-rmspe:0.239850\teval-rmspe:0.195736\n",
      "[99]\ttrain-rmspe:0.239612\teval-rmspe:0.195463\n",
      "[100]\ttrain-rmspe:0.238835\teval-rmspe:0.194649\n",
      "[101]\ttrain-rmspe:0.238297\teval-rmspe:0.194338\n",
      "[102]\ttrain-rmspe:0.238098\teval-rmspe:0.194061\n",
      "[103]\ttrain-rmspe:0.237958\teval-rmspe:0.193907\n",
      "[104]\ttrain-rmspe:0.237162\teval-rmspe:0.192898\n",
      "[105]\ttrain-rmspe:0.235918\teval-rmspe:0.191386\n",
      "[106]\ttrain-rmspe:0.235660\teval-rmspe:0.191039\n",
      "[107]\ttrain-rmspe:0.234695\teval-rmspe:0.189819\n",
      "[108]\ttrain-rmspe:0.234435\teval-rmspe:0.189475\n",
      "[109]\ttrain-rmspe:0.233618\teval-rmspe:0.188708\n",
      "[110]\ttrain-rmspe:0.232766\teval-rmspe:0.187654\n",
      "[111]\ttrain-rmspe:0.231812\teval-rmspe:0.186378\n",
      "[112]\ttrain-rmspe:0.231226\teval-rmspe:0.185758\n",
      "[113]\ttrain-rmspe:0.230819\teval-rmspe:0.185439\n",
      "[114]\ttrain-rmspe:0.229772\teval-rmspe:0.183957\n",
      "[115]\ttrain-rmspe:0.228382\teval-rmspe:0.182901\n",
      "[116]\ttrain-rmspe:0.226610\teval-rmspe:0.180770\n",
      "[117]\ttrain-rmspe:0.226233\teval-rmspe:0.180394\n",
      "[118]\ttrain-rmspe:0.225797\teval-rmspe:0.179779\n",
      "[119]\ttrain-rmspe:0.225698\teval-rmspe:0.179666\n",
      "[120]\ttrain-rmspe:0.225567\teval-rmspe:0.179514\n",
      "[121]\ttrain-rmspe:0.225426\teval-rmspe:0.179364\n",
      "[122]\ttrain-rmspe:0.223129\teval-rmspe:0.178641\n",
      "[123]\ttrain-rmspe:0.222226\teval-rmspe:0.177549\n",
      "[124]\ttrain-rmspe:0.222098\teval-rmspe:0.177214\n",
      "[125]\ttrain-rmspe:0.221206\teval-rmspe:0.176035\n",
      "[126]\ttrain-rmspe:0.221174\teval-rmspe:0.175903\n",
      "[127]\ttrain-rmspe:0.220822\teval-rmspe:0.175554\n",
      "[128]\ttrain-rmspe:0.220538\teval-rmspe:0.175275\n",
      "[129]\ttrain-rmspe:0.219103\teval-rmspe:0.173431\n",
      "[130]\ttrain-rmspe:0.217949\teval-rmspe:0.171984\n",
      "[131]\ttrain-rmspe:0.216991\teval-rmspe:0.170943\n",
      "[132]\ttrain-rmspe:0.216849\teval-rmspe:0.170808\n",
      "[133]\ttrain-rmspe:0.216526\teval-rmspe:0.170569\n",
      "[134]\ttrain-rmspe:0.215998\teval-rmspe:0.169857\n",
      "[135]\ttrain-rmspe:0.215482\teval-rmspe:0.169191\n",
      "[136]\ttrain-rmspe:0.213985\teval-rmspe:0.168973\n",
      "[137]\ttrain-rmspe:0.213868\teval-rmspe:0.168839\n",
      "[138]\ttrain-rmspe:0.213579\teval-rmspe:0.168594\n",
      "[139]\ttrain-rmspe:0.212730\teval-rmspe:0.167519\n",
      "[140]\ttrain-rmspe:0.212198\teval-rmspe:0.166876\n",
      "[141]\ttrain-rmspe:0.212078\teval-rmspe:0.166716\n",
      "[142]\ttrain-rmspe:0.211778\teval-rmspe:0.166382\n",
      "[143]\ttrain-rmspe:0.209546\teval-rmspe:0.163982\n",
      "[144]\ttrain-rmspe:0.208507\teval-rmspe:0.162895\n",
      "[145]\ttrain-rmspe:0.208319\teval-rmspe:0.162617\n",
      "[146]\ttrain-rmspe:0.208110\teval-rmspe:0.162303\n",
      "[147]\ttrain-rmspe:0.207834\teval-rmspe:0.162112\n",
      "[148]\ttrain-rmspe:0.207666\teval-rmspe:0.161510\n",
      "[149]\ttrain-rmspe:0.207584\teval-rmspe:0.161383\n",
      "[150]\ttrain-rmspe:0.207382\teval-rmspe:0.161229\n",
      "[151]\ttrain-rmspe:0.207309\teval-rmspe:0.161118\n",
      "[152]\ttrain-rmspe:0.206553\teval-rmspe:0.160116\n",
      "[153]\ttrain-rmspe:0.206143\teval-rmspe:0.159880\n",
      "[154]\ttrain-rmspe:0.205885\teval-rmspe:0.159535\n",
      "[155]\ttrain-rmspe:0.205687\teval-rmspe:0.159453\n",
      "[156]\ttrain-rmspe:0.204383\teval-rmspe:0.157907\n",
      "[157]\ttrain-rmspe:0.204288\teval-rmspe:0.157787\n",
      "[158]\ttrain-rmspe:0.203619\teval-rmspe:0.156848\n",
      "[159]\ttrain-rmspe:0.203395\teval-rmspe:0.156573\n",
      "[160]\ttrain-rmspe:0.202898\teval-rmspe:0.156134\n",
      "[161]\ttrain-rmspe:0.202807\teval-rmspe:0.156011\n",
      "[162]\ttrain-rmspe:0.202752\teval-rmspe:0.155980\n",
      "[163]\ttrain-rmspe:0.202427\teval-rmspe:0.155544\n",
      "[164]\ttrain-rmspe:0.202056\teval-rmspe:0.155031\n",
      "[165]\ttrain-rmspe:0.201757\teval-rmspe:0.154762\n",
      "[166]\ttrain-rmspe:0.201339\teval-rmspe:0.154279\n",
      "[167]\ttrain-rmspe:0.200959\teval-rmspe:0.153819\n",
      "[168]\ttrain-rmspe:0.200798\teval-rmspe:0.153696\n",
      "[169]\ttrain-rmspe:0.200740\teval-rmspe:0.153649\n",
      "[170]\ttrain-rmspe:0.199787\teval-rmspe:0.152871\n",
      "[171]\ttrain-rmspe:0.199245\teval-rmspe:0.152084\n",
      "[172]\ttrain-rmspe:0.198776\teval-rmspe:0.151485\n",
      "[173]\ttrain-rmspe:0.198752\teval-rmspe:0.151390\n",
      "[174]\ttrain-rmspe:0.198591\teval-rmspe:0.151138\n",
      "[175]\ttrain-rmspe:0.198283\teval-rmspe:0.150669\n",
      "[176]\ttrain-rmspe:0.197495\teval-rmspe:0.149970\n",
      "[177]\ttrain-rmspe:0.197178\teval-rmspe:0.149537\n",
      "[178]\ttrain-rmspe:0.197047\teval-rmspe:0.149349\n",
      "[179]\ttrain-rmspe:0.196496\teval-rmspe:0.148540\n",
      "[180]\ttrain-rmspe:0.196358\teval-rmspe:0.148465\n",
      "[181]\ttrain-rmspe:0.196208\teval-rmspe:0.148292\n",
      "[182]\ttrain-rmspe:0.196085\teval-rmspe:0.148205\n",
      "[183]\ttrain-rmspe:0.195638\teval-rmspe:0.147621\n",
      "[184]\ttrain-rmspe:0.195438\teval-rmspe:0.147380\n",
      "[185]\ttrain-rmspe:0.194960\teval-rmspe:0.146800\n",
      "[186]\ttrain-rmspe:0.194665\teval-rmspe:0.146479\n",
      "[187]\ttrain-rmspe:0.194637\teval-rmspe:0.146320\n",
      "[188]\ttrain-rmspe:0.193888\teval-rmspe:0.145649\n",
      "[189]\ttrain-rmspe:0.193125\teval-rmspe:0.144837\n",
      "[190]\ttrain-rmspe:0.192496\teval-rmspe:0.144386\n",
      "[191]\ttrain-rmspe:0.192333\teval-rmspe:0.144233\n",
      "[192]\ttrain-rmspe:0.192224\teval-rmspe:0.144178\n",
      "[193]\ttrain-rmspe:0.192062\teval-rmspe:0.144055\n",
      "[194]\ttrain-rmspe:0.191803\teval-rmspe:0.143685\n",
      "[195]\ttrain-rmspe:0.191492\teval-rmspe:0.143346\n",
      "[196]\ttrain-rmspe:0.191567\teval-rmspe:0.143005\n",
      "[197]\ttrain-rmspe:0.191173\teval-rmspe:0.142413\n",
      "[198]\ttrain-rmspe:0.191051\teval-rmspe:0.142290\n",
      "[199]\ttrain-rmspe:0.190765\teval-rmspe:0.141878\n",
      "[200]\ttrain-rmspe:0.190060\teval-rmspe:0.141459\n",
      "[201]\ttrain-rmspe:0.189928\teval-rmspe:0.141325\n",
      "[202]\ttrain-rmspe:0.189877\teval-rmspe:0.141192\n",
      "[203]\ttrain-rmspe:0.189758\teval-rmspe:0.141071\n",
      "[204]\ttrain-rmspe:0.189408\teval-rmspe:0.140570\n",
      "[205]\ttrain-rmspe:0.189375\teval-rmspe:0.140562\n",
      "[206]\ttrain-rmspe:0.188025\teval-rmspe:0.140282\n",
      "[207]\ttrain-rmspe:0.187122\teval-rmspe:0.139194\n",
      "[208]\ttrain-rmspe:0.186846\teval-rmspe:0.138788\n",
      "[209]\ttrain-rmspe:0.186645\teval-rmspe:0.138525\n",
      "[210]\ttrain-rmspe:0.186550\teval-rmspe:0.138467\n",
      "[211]\ttrain-rmspe:0.186231\teval-rmspe:0.138152\n",
      "[212]\ttrain-rmspe:0.186184\teval-rmspe:0.138108\n",
      "[213]\ttrain-rmspe:0.186074\teval-rmspe:0.137920\n",
      "[214]\ttrain-rmspe:0.185810\teval-rmspe:0.137729\n",
      "[215]\ttrain-rmspe:0.185497\teval-rmspe:0.137318\n",
      "[216]\ttrain-rmspe:0.181777\teval-rmspe:0.137026\n",
      "[217]\ttrain-rmspe:0.180854\teval-rmspe:0.136918\n",
      "[218]\ttrain-rmspe:0.180805\teval-rmspe:0.136838\n",
      "[219]\ttrain-rmspe:0.180611\teval-rmspe:0.136670\n",
      "[220]\ttrain-rmspe:0.180522\teval-rmspe:0.136592\n",
      "[221]\ttrain-rmspe:0.180345\teval-rmspe:0.136374\n",
      "[222]\ttrain-rmspe:0.179826\teval-rmspe:0.135687\n",
      "[223]\ttrain-rmspe:0.179813\teval-rmspe:0.135643\n",
      "[224]\ttrain-rmspe:0.179787\teval-rmspe:0.135590\n",
      "[225]\ttrain-rmspe:0.179705\teval-rmspe:0.135448\n",
      "[226]\ttrain-rmspe:0.179612\teval-rmspe:0.135355\n",
      "[227]\ttrain-rmspe:0.179586\teval-rmspe:0.135315\n",
      "[228]\ttrain-rmspe:0.179276\teval-rmspe:0.134940\n",
      "[229]\ttrain-rmspe:0.179112\teval-rmspe:0.134799\n",
      "[230]\ttrain-rmspe:0.178971\teval-rmspe:0.134681\n",
      "[231]\ttrain-rmspe:0.178900\teval-rmspe:0.134607\n",
      "[232]\ttrain-rmspe:0.178661\teval-rmspe:0.134332\n",
      "[233]\ttrain-rmspe:0.178483\teval-rmspe:0.134095\n",
      "[234]\ttrain-rmspe:0.178365\teval-rmspe:0.133979\n",
      "[235]\ttrain-rmspe:0.178067\teval-rmspe:0.133688\n",
      "[236]\ttrain-rmspe:0.178050\teval-rmspe:0.133626\n",
      "[237]\ttrain-rmspe:0.177829\teval-rmspe:0.133549\n",
      "[238]\ttrain-rmspe:0.177384\teval-rmspe:0.132879\n",
      "[239]\ttrain-rmspe:0.177353\teval-rmspe:0.132817\n",
      "[240]\ttrain-rmspe:0.177248\teval-rmspe:0.132674\n",
      "[241]\ttrain-rmspe:0.177139\teval-rmspe:0.132608\n",
      "[242]\ttrain-rmspe:0.176954\teval-rmspe:0.132403\n",
      "[243]\ttrain-rmspe:0.176392\teval-rmspe:0.132105\n",
      "[244]\ttrain-rmspe:0.176285\teval-rmspe:0.131995\n",
      "[245]\ttrain-rmspe:0.176238\teval-rmspe:0.131953\n",
      "[246]\ttrain-rmspe:0.176213\teval-rmspe:0.131917\n",
      "[247]\ttrain-rmspe:0.176048\teval-rmspe:0.131769\n",
      "[248]\ttrain-rmspe:0.175857\teval-rmspe:0.131650\n",
      "[249]\ttrain-rmspe:0.175741\teval-rmspe:0.131508\n",
      "[250]\ttrain-rmspe:0.175554\teval-rmspe:0.131270\n",
      "[251]\ttrain-rmspe:0.175421\teval-rmspe:0.131066\n",
      "[252]\ttrain-rmspe:0.175183\teval-rmspe:0.130770\n",
      "[253]\ttrain-rmspe:0.175146\teval-rmspe:0.130726\n",
      "[254]\ttrain-rmspe:0.174959\teval-rmspe:0.130487\n",
      "[255]\ttrain-rmspe:0.174718\teval-rmspe:0.130424\n",
      "[256]\ttrain-rmspe:0.174711\teval-rmspe:0.130315\n",
      "[257]\ttrain-rmspe:0.174688\teval-rmspe:0.130231\n",
      "[258]\ttrain-rmspe:0.174567\teval-rmspe:0.130094\n",
      "[259]\ttrain-rmspe:0.174113\teval-rmspe:0.129707\n",
      "[260]\ttrain-rmspe:0.173923\teval-rmspe:0.129569\n",
      "[261]\ttrain-rmspe:0.173683\teval-rmspe:0.129377\n",
      "[262]\ttrain-rmspe:0.173540\teval-rmspe:0.129251\n",
      "[263]\ttrain-rmspe:0.173493\teval-rmspe:0.129179\n",
      "[264]\ttrain-rmspe:0.173449\teval-rmspe:0.129132\n",
      "[265]\ttrain-rmspe:0.172803\teval-rmspe:0.128802\n",
      "[266]\ttrain-rmspe:0.172698\teval-rmspe:0.128739\n",
      "[267]\ttrain-rmspe:0.172607\teval-rmspe:0.128621\n",
      "[268]\ttrain-rmspe:0.171601\teval-rmspe:0.128044\n",
      "[269]\ttrain-rmspe:0.171556\teval-rmspe:0.127907\n",
      "[270]\ttrain-rmspe:0.168950\teval-rmspe:0.127637\n",
      "[271]\ttrain-rmspe:0.169192\teval-rmspe:0.127495\n",
      "[272]\ttrain-rmspe:0.169181\teval-rmspe:0.127471\n",
      "[273]\ttrain-rmspe:0.168699\teval-rmspe:0.127012\n",
      "[274]\ttrain-rmspe:0.168575\teval-rmspe:0.126914\n",
      "[275]\ttrain-rmspe:0.168412\teval-rmspe:0.126690\n",
      "[276]\ttrain-rmspe:0.167699\teval-rmspe:0.126640\n",
      "[277]\ttrain-rmspe:0.167645\teval-rmspe:0.126599\n",
      "[278]\ttrain-rmspe:0.167573\teval-rmspe:0.126543\n",
      "[279]\ttrain-rmspe:0.167525\teval-rmspe:0.126511\n",
      "[280]\ttrain-rmspe:0.167479\teval-rmspe:0.126449\n",
      "[281]\ttrain-rmspe:0.167051\teval-rmspe:0.125819\n",
      "[282]\ttrain-rmspe:0.167084\teval-rmspe:0.125777\n",
      "[283]\ttrain-rmspe:0.166893\teval-rmspe:0.125596\n",
      "[284]\ttrain-rmspe:0.166836\teval-rmspe:0.125545\n",
      "[285]\ttrain-rmspe:0.166843\teval-rmspe:0.125475\n",
      "[286]\ttrain-rmspe:0.166675\teval-rmspe:0.125276\n",
      "[287]\ttrain-rmspe:0.166479\teval-rmspe:0.125021\n",
      "[288]\ttrain-rmspe:0.166251\teval-rmspe:0.124661\n",
      "[289]\ttrain-rmspe:0.166042\teval-rmspe:0.124233\n",
      "[290]\ttrain-rmspe:0.165923\teval-rmspe:0.124114\n",
      "[291]\ttrain-rmspe:0.165796\teval-rmspe:0.123940\n",
      "[292]\ttrain-rmspe:0.164837\teval-rmspe:0.123793\n",
      "[293]\ttrain-rmspe:0.164830\teval-rmspe:0.123761\n",
      "[294]\ttrain-rmspe:0.164794\teval-rmspe:0.123724\n",
      "[295]\ttrain-rmspe:0.164729\teval-rmspe:0.123653\n",
      "[296]\ttrain-rmspe:0.164641\teval-rmspe:0.123579\n",
      "[297]\ttrain-rmspe:0.164554\teval-rmspe:0.123469\n",
      "[298]\ttrain-rmspe:0.164543\teval-rmspe:0.123439\n"
     ]
    },
    {
     "name": "stdout",
     "output_type": "stream",
     "text": [
      "Train a XGBoost model\n"
     ]
    },
    {
     "name": "stderr",
     "output_type": "stream",
     "text": [
      "[299]\ttrain-rmspe:0.164157\teval-rmspe:0.123176\n"
     ]
    }
   ],
   "source": [
    "print(\"Train a XGBoost model\")\n",
    "X_train, X_valid = train_test_split(train_df, test_size=0.012, random_state=10)\n",
    "y_train = np.log1p(X_train.Sales)\n",
    "y_valid = np.log1p(X_valid.Sales)\n",
    "dtrain = xgb.DMatrix(X_train[features], y_train)\n",
    "dvalid = xgb.DMatrix(X_valid[features], y_valid)\n",
    "\n",
    "watchlist = [(dtrain, 'train'), (dvalid, 'eval')]\n",
    "gbm = xgb.train(params, dtrain, num_boost_round, evals=watchlist, \\\n",
    "  early_stopping_rounds=100, feval=rmspe_xg, verbose_eval=True)\n"
   ]
  },
  {
   "cell_type": "code",
   "execution_count": 15,
   "metadata": {
    "collapsed": false
   },
   "outputs": [
    {
     "name": "stdout",
     "output_type": "stream",
     "text": [
      "Validating\n",
      "RMSPE: 0.123176\n",
      "Make predictions on the test set\n"
     ]
    }
   ],
   "source": [
    "print(\"Validating\")\n",
    "yhat = gbm.predict(xgb.DMatrix(X_valid[features]))\n",
    "error = rmspe(X_valid.Sales.values, np.expm1(yhat))\n",
    "print('RMSPE: {:.6f}'.format(error))\n",
    "\n",
    "print(\"Make predictions on the test set\")\n",
    "dtest = xgb.DMatrix(test_df[features])\n",
    "test_probs = gbm.predict(dtest)\n",
    "# Make Submission\n",
    "result = pd.DataFrame({\"Id\": test_df[\"Id\"], 'Sales': np.expm1(test_probs)})\n",
    "result.to_csv(\"xgboost_10_submission.csv\", index=False)"
   ]
  },
  {
   "cell_type": "code",
   "execution_count": 16,
   "metadata": {
    "collapsed": false
   },
   "outputs": [
    {
     "data": {
      "image/png": "[encoded data removed]",
      "text/plain": [
       "<matplotlib.figure.Figure at 0xa41fcf8>"
      ]
     },
     "metadata": {},
     "output_type": "display_data"
    }
   ],
   "source": [
    "def create_feature_map(features):\n",
    "    outfile = open('xgb.fmap', 'w')\n",
    "    for i, feat in enumerate(features):\n",
    "        outfile.write('{0}\\t{1}\\tq\\n'.format(i, feat))\n",
    "    outfile.close()\n",
    "\n",
    "\n",
    "create_feature_map(features)\n",
    "importance = gbm.get_fscore(fmap='xgb.fmap')\n",
    "importance = sorted(importance.items(), key=operator.itemgetter(1))\n",
    "\n",
    "df = pd.DataFrame(importance, columns=['feature', 'fscore'])\n",
    "df['fscore'] = df['fscore'] / df['fscore'].sum()\n",
    "\n",
    "featp = df.plot(kind='barh', x='feature', y='fscore', legend=False, figsize=(6, 10))\n",
    "import matplotlib.pyplot as plt\n",
    "plt.title('XGBoost Feature Importance')\n",
    "plt.xlabel('relative importance')\n",
    "fig_featp = featp.get_figure()\n",
    "fig_featp.savefig('feature_importance_xgb.png', bbox_inches='tight', pad_inches=1)\n"
   ]
  },
  {
   "cell_type": "code",
   "execution_count": null,
   "metadata": {
    "collapsed": true
   },
   "outputs": [],
   "source": []
  }
 ],
 "metadata": {
  "kernelspec": {
   "display_name": "Python 3",
   "language": "python",
   "name": "python3"
  },
  "language_info": {
   "codemirror_mode": {
    "name": "ipython",
    "version": 3
   },
   "file_extension": ".py",
   "mimetype": "text/x-python",
   "name": "python",
   "nbconvert_exporter": "python",
   "pygments_lexer": "ipython3",
   "version": "3.4.3"
  }
 },
 "nbformat": 4,
 "nbformat_minor": 0
}
